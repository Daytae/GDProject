{
 "cells": [
  {
   "cell_type": "code",
   "execution_count": null,
   "id": "671d9306",
   "metadata": {},
   "outputs": [],
   "source": [
    "# Create synthetic data for NMR\n",
    "\n",
    "# Take in organic molecule data I already have diffusion model for\n",
    "# run it through a naive NMR predictor to just get some fake data\n",
    "# use the data to train the forward model\n",
    "\n",
    "# this is done in another repo because the nmr predictor uses a really old version of keras"
   ]
  },
  {
   "cell_type": "code",
   "execution_count": 1,
   "id": "a46e9150",
   "metadata": {},
   "outputs": [
    {
     "name": "stdout",
     "output_type": "stream",
     "text": [
      "<KeysViewHDF5 ['DATA_SOURCE', 'EXTINCT', 'LATENTS', 'PEPTIDES']>\n"
     ]
    }
   ],
   "source": [
    "import h5py\n",
    "with h5py.File(\"data/peptide_dataset.h5\") as f:\n",
    "    print(f.keys())"
   ]
  }
 ],
 "metadata": {
  "kernelspec": {
   "display_name": "pytorch-cuda",
   "language": "python",
   "name": "python3"
  },
  "language_info": {
   "codemirror_mode": {
    "name": "ipython",
    "version": 3
   },
   "file_extension": ".py",
   "mimetype": "text/x-python",
   "name": "python",
   "nbconvert_exporter": "python",
   "pygments_lexer": "ipython3",
   "version": "3.10.18"
  }
 },
 "nbformat": 4,
 "nbformat_minor": 5
}
