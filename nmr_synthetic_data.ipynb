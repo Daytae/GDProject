{
 "cells": [
  {
   "cell_type": "code",
   "execution_count": null,
   "id": "671d9306",
   "metadata": {},
   "outputs": [],
   "source": [
    "# Create synthetic data for NMR\n",
    "\n",
    "# Take in organic molecule data I already have diffusion model for\n",
    "# run it through a naive NMR predictor to just get some fake data\n",
    "# use the data to train the forward model"
   ]
  }
 ],
 "metadata": {
  "language_info": {
   "name": "python"
  }
 },
 "nbformat": 4,
 "nbformat_minor": 5
}
