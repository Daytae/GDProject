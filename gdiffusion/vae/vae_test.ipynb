{
 "cells": [
  {
   "cell_type": "markdown",
   "id": "22fea5a3",
   "metadata": {},
   "source": [
    "** Warning ** \n",
    "\n",
    "This will only work if you are running from root of repo"
   ]
  },
  {
   "cell_type": "code",
   "execution_count": 2,
   "id": "e64e74ec",
   "metadata": {},
   "outputs": [
    {
     "name": "stdout",
     "output_type": "stream",
     "text": [
      "device: cuda\n"
     ]
    }
   ],
   "source": [
    "# Supress pytorch pickle load warnings\n",
    "import warnings\n",
    "warnings.simplefilter(action='ignore', category=FutureWarning)\n",
    "\n",
    "# Torch\n",
    "import torch\n",
    "import torch.nn as nn\n",
    "import torch.nn.functional as F\n",
    "from torch.distributions import Normal\n",
    "import torch.optim as optim\n",
    "from torch.utils.data import TensorDataset, DataLoader\n",
    "\n",
    "# Logging\n",
    "from tqdm import tqdm\n",
    "import matplotlib.pyplot as plt\n",
    "import pickle\n",
    "\n",
    "# Library imports\n",
    "import gdiffusion as gd\n",
    "import util\n",
    "import util.chem as chem\n",
    "import util.visualization as vis\n",
    "import util.stats as gdstats\n",
    "\n",
    "\n",
    "import gdiffusion.bayesopt as bayesopt\n",
    "from gdiffusion.classifier.logp_predictor import LogPPredictor\n",
    "\n",
    "device = util.util.get_device()\n",
    "print(f\"device: {device}\")\n",
    "\n",
    "DIFFUSION_PATH = \"saved_models/diffusion/molecule-diffusion-v1.pt\"\n",
    "SELFIES_VAE_PATH = \"saved_models/selfies_vae/selfies-vae.ckpt\"\n",
    "PEPTIDE_VAE_PATH = \"saved_models/peptide_vae/peptide-vae.ckpt\"\n",
    "LOGP_PREDICTOR_PATH = \"saved_models/logp/model-logp\""
   ]
  },
  {
   "cell_type": "code",
   "execution_count": 14,
   "id": "8122e175",
   "metadata": {},
   "outputs": [
    {
     "name": "stdout",
     "output_type": "stream",
     "text": [
      "loading model from saved_models/selfies_vae/selfies-vae.ckpt\n",
      "Enc params: 1,994,592\n",
      "Dec params: 277,346\n",
      "loading model from saved_models/peptide_vae/peptide-vae.ckpt\n",
      "Enc params: 2,675,904\n",
      "Dec params: 360,349\n"
     ]
    }
   ],
   "source": [
    "selfies_vae = gd.load_vae_selfies(path_to_vae_statedict=SELFIES_VAE_PATH)\n",
    "peptide_vae = gd.load_vae_peptides(path_to_vae_statedict=PEPTIDE_VAE_PATH)"
   ]
  },
  {
   "cell_type": "code",
   "execution_count": 15,
   "id": "7168ee5e",
   "metadata": {},
   "outputs": [
    {
     "name": "stdout",
     "output_type": "stream",
     "text": [
      "[C][C][=C][N][Branch2][Ring1][N][C][C][Branch1][Ring1][C][#N][C][C][=C][C][Branch1][=Branch2][C][=C][C][=C][C][=C][Ring1][=Branch1][=N][C][=C][Ring1][S][N][C][C][Ring1][Branch1]\n",
      "[O][=C][Branch1][C][O][C][=C][Branch1][C][N][F]\n",
      "[C][O][C][=C][C][Branch1][C][C][C][N][Branch1][C][C][C][=C][Ring1][#Branch2][O][C][C][=C][C][=C][Branch1][=Branch1][C][Branch1][C][N][=O][C][=C][Ring1][=Branch2][C][Branch1][C][C][C][=Branch1][C][=N][Ring2][Ring1][Branch2][C]\n",
      "[C][C][=N][C][=C][Branch2][Ring1][#Branch1][C][=C][N][C][Branch1][C][O][C][C][=C][Ring1][Branch1][N][C][C][C][C][N][Ring1][=Branch1][C][Branch1][C][C][N][C][C][=C][Ring2][Ring1][#Branch2][O][C]\n",
      "\n",
      "--------------------------------------------\n",
      "\n",
      "VGFVATDQSVADQRAIRVDHEGRVDAEKRSKARTSSAQDFSSA\n",
      "RKITMRKINTPKINRPMIGRLDLGAGRGQIGRG\n",
      "TPHLNELLRADAADAHT\n",
      "RCADTLAVLLGRGETSQLALIISGAIIFSGAIISGAI\n"
     ]
    }
   ],
   "source": [
    "\n",
    "out = gd.latent_to_selfies(z=torch.randn(4, 128), vae=selfies_vae)\n",
    "for selfie in out:\n",
    "    print(selfie)\n",
    "\n",
    "print(\"\\n--------------------------------------------\\n\")\n",
    "\n",
    "out =  gd.latent_to_peptides(z=torch.randn(4,256), vae=peptide_vae)\n",
    "for peptide in out:\n",
    "    print(peptide)"
   ]
  }
 ],
 "metadata": {
  "kernelspec": {
   "display_name": "pytorch-cuda",
   "language": "python",
   "name": "python3"
  },
  "language_info": {
   "codemirror_mode": {
    "name": "ipython",
    "version": 3
   },
   "file_extension": ".py",
   "mimetype": "text/x-python",
   "name": "python",
   "nbconvert_exporter": "python",
   "pygments_lexer": "ipython3",
   "version": "3.10.18"
  }
 },
 "nbformat": 4,
 "nbformat_minor": 5
}
