{
 "cells": [
  {
   "cell_type": "markdown",
   "id": "abdbdd74",
   "metadata": {},
   "source": [
    "Notebook for the diffusion development program"
   ]
  },
  {
   "cell_type": "code",
   "execution_count": 1,
   "id": "84d3b909",
   "metadata": {},
   "outputs": [
    {
     "name": "stderr",
     "output_type": "stream",
     "text": [
      "/home/alden/miniconda3/envs/pytorch-cuda/lib/python3.10/site-packages/tqdm/auto.py:21: TqdmWarning: IProgress not found. Please update jupyter and ipywidgets. See https://ipywidgets.readthedocs.io/en/stable/user_install.html\n",
      "  from .autonotebook import tqdm as notebook_tqdm\n"
     ]
    },
    {
     "name": "stdout",
     "output_type": "stream",
     "text": [
      "\n",
      "Model created successfully\n",
      "- Total parameters: 57,314,049\n",
      "- Trainable parameters: 57,314,049\n",
      "- Model size: 218.6 MB\n",
      "- Device: cuda:0\n",
      "- Model Name: LatentDiffusionModel\n"
     ]
    }
   ],
   "source": [
    "import model.diffusion as gd\n",
    "diffusion = gd.create_diffusion_model()"
   ]
  },
  {
   "cell_type": "code",
   "execution_count": 2,
   "id": "258b3638",
   "metadata": {},
   "outputs": [
    {
     "name": "stderr",
     "output_type": "stream",
     "text": [
      "DDPM Sampling loop time step: 100%|██████████| 1000/1000 [00:10<00:00, 98.03it/s]\n"
     ]
    },
    {
     "data": {
      "text/plain": [
       "tensor([[[ 1.9967, -0.4015,  0.9483,  ...,  3.1158,  1.2388, -0.6542]],\n",
       "\n",
       "        [[ 1.8801, -0.6903,  1.3920,  ...,  1.1581,  1.6686,  0.8780]],\n",
       "\n",
       "        [[ 0.9055,  1.1426,  2.0282,  ...,  1.5317,  0.6035, -0.9308]],\n",
       "\n",
       "        ...,\n",
       "\n",
       "        [[ 0.5549, -0.0256,  2.1864,  ...,  0.7039, -0.1407,  1.3528]],\n",
       "\n",
       "        [[ 0.1941, -0.0676, -0.0688,  ...,  1.6306,  0.3105,  0.6058]],\n",
       "\n",
       "        [[-1.1207, -0.1519,  2.6668,  ...,  1.0149,  1.4031, -2.0516]]],\n",
       "       device='cuda:0')"
      ]
     },
     "execution_count": 2,
     "metadata": {},
     "output_type": "execute_result"
    }
   ],
   "source": [
    "diffusion.sample()"
   ]
  },
  {
   "cell_type": "markdown",
   "id": "542d716a",
   "metadata": {},
   "source": [
    "Testing:"
   ]
  },
  {
   "cell_type": "code",
   "execution_count": null,
   "id": "2726b96e",
   "metadata": {},
   "outputs": [
    {
     "name": "stdout",
     "output_type": "stream",
     "text": [
      "\n",
      "Model created successfully\n",
      "- Total parameters: 57,314,049\n",
      "- Trainable parameters: 57,314,049\n",
      "- Model size: 218.6 MB\n",
      "- Device: cuda:0\n",
      "- Model Name: GaussianDiffusion1D\n"
     ]
    },
    {
     "name": "stderr",
     "output_type": "stream",
     "text": [
      "/tmp/ipykernel_116813/3819632101.py:61: FutureWarning: You are using `torch.load` with `weights_only=False` (the current default value), which uses the default pickle module implicitly. It is possible to construct malicious pickle data which will execute arbitrary code during unpickling (See https://github.com/pytorch/pytorch/blob/main/SECURITY.md#untrusted-models for more details). In a future release, the default value for `weights_only` will be flipped to `True`. This limits the functions that could be executed during unpickling. Arbitrary objects will no longer be allowed to be loaded via this mode unless they are explicitly allowlisted by the user via `torch.serialization.add_safe_globals`. We recommend you start setting `weights_only=True` for any use case where you don't have full control of the loaded file. Please open an issue on GitHub for any issues related to this experimental feature.\n",
      "  checkpoint = torch.load(model_path)\n"
     ]
    },
    {
     "name": "stdout",
     "output_type": "stream",
     "text": [
      "Loaded model successfully from saved_models/diffusion/molecule-diffusion-v1.pt\n"
     ]
    }
   ],
   "source": [
    "model = create_diffusion_model()\n",
    "load_diffusion_model(model=model, model_path=\"saved_models/diffusion/molecule-diffusion-v1.pt\", device=\"cuda\")"
   ]
  }
 ],
 "metadata": {
  "kernelspec": {
   "display_name": "pytorch-cuda",
   "language": "python",
   "name": "python3"
  },
  "language_info": {
   "codemirror_mode": {
    "name": "ipython",
    "version": 3
   },
   "file_extension": ".py",
   "mimetype": "text/x-python",
   "name": "python",
   "nbconvert_exporter": "python",
   "pygments_lexer": "ipython3",
   "version": "3.10.18"
  }
 },
 "nbformat": 4,
 "nbformat_minor": 5
}
