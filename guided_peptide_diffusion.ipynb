{
 "cells": [
  {
   "cell_type": "code",
   "execution_count": 1,
   "id": "6037fe17",
   "metadata": {},
   "outputs": [
    {
     "name": "stderr",
     "output_type": "stream",
     "text": [
      "/home/alden/miniconda3/envs/pytorch-cuda/lib/python3.10/site-packages/tqdm/auto.py:21: TqdmWarning: IProgress not found. Please update jupyter and ipywidgets. See https://ipywidgets.readthedocs.io/en/stable/user_install.html\n",
      "  from .autonotebook import tqdm as notebook_tqdm\n"
     ]
    },
    {
     "name": "stdout",
     "output_type": "stream",
     "text": [
      "device: cuda\n"
     ]
    }
   ],
   "source": [
    "# Supress pytorch pickle load warnings\n",
    "import warnings\n",
    "warnings.simplefilter(action='ignore', category=FutureWarning)\n",
    "\n",
    "# Torch\n",
    "import torch\n",
    "import torch.nn as nn\n",
    "import torch.nn.functional as F\n",
    "from torch.distributions import Normal\n",
    "import torch.optim as optim\n",
    "from torch.utils.data import TensorDataset, DataLoader\n",
    "\n",
    "# Logging\n",
    "from tqdm import tqdm\n",
    "import matplotlib.pyplot as plt\n",
    "import pickle\n",
    "\n",
    "# Library imports\n",
    "import gdiffusion as gd\n",
    "import util\n",
    "import util.chem as chem\n",
    "import util.visualization as vis\n",
    "import util.stats as gdstats\n",
    "\n",
    "\n",
    "import gdiffusion.bayesopt as bayesopt\n",
    "from gdiffusion.classifier.extinct_predictor import EsmClassificationHead\n",
    "\n",
    "device = util.util.get_device()\n",
    "print(f\"device: {device}\")\n",
    "\n",
    "# peptide diffusion\n",
    "DIFFUSION_PATH = \"saved_models/peptide_model_v1-20.pt\"\n",
    "PEPTIDE_VAE_PATH = \"saved_models/peptide_vae/peptide-vae.ckpt\"\n",
    "PEPTIDE_VAE_VOCAB_PATH = \"saved_models/peptide_vae/vocab.json\"\n",
    "EXTINCT_PREDICTOR_PATH = \"saved_models/extinct_model8417\""
   ]
  },
  {
   "cell_type": "code",
   "execution_count": 2,
   "id": "0b275ce4",
   "metadata": {},
   "outputs": [
    {
     "name": "stdout",
     "output_type": "stream",
     "text": [
      "\n",
      "Model created successfully\n",
      "- Total parameters: 225,056,257\n",
      "- Trainable parameters: 225,056,257\n",
      "- Model size: 858.5 MB\n",
      "- Device: cuda:0\n",
      "- Model Name: LatentDiffusionModel\n",
      "\n",
      "Model created successfully\n",
      "- Total parameters: 225,056,257\n",
      "- Trainable parameters: 225,056,257\n",
      "- Model size: 858.5 MB\n",
      "- Device: cuda:0\n",
      "- Model Name: LatentDiffusionModel\n",
      "loading model from saved_models/peptide_vae/peptide-vae.ckpt\n",
      "Enc params: 2,675,904\n",
      "Dec params: 360,349\n"
     ]
    }
   ],
   "source": [
    "classifier = torch.load(EXTINCT_PREDICTOR_PATH)\n",
    "classifier.eval().to(device)\n",
    "\n",
    "diffusion = gd.create_peptide_diffusion_model(DIFFUSION_PATH, device=device)\n",
    "peptide_vae = gd.load_vae_peptides(path_to_vae_statedict=PEPTIDE_VAE_PATH, vocab_path=PEPTIDE_VAE_VOCAB_PATH)"
   ]
  },
  {
   "cell_type": "code",
   "execution_count": 62,
   "id": "a6e0e2d0",
   "metadata": {},
   "outputs": [],
   "source": [
    "decode = lambda z: gd.latent_to_peptides(z, vae=peptide_vae)\n",
    "encode = lambda peptide_str: gd.peptides_to_latent(peptide_str, vae=peptide_vae)\n",
    "\n",
    "def sample_random(batch_size):\n",
    "    return torch.randn(size=(batch_size, 256), device=device)\n",
    "\n",
    "def classify(z):\n",
    "    return torch.softmax(classifier(z), dim=1)\n",
    "\n",
    "def sample(batch_size, cond_fn=None):\n",
    "    return diffusion.sample(batch_size=batch_size, cond_fn=cond_fn).reshape(batch_size, 256)\n",
    "\n",
    "def eval_probs(z):\n",
    "    probs = classify(z)\n",
    "    print(f\"Diffusion Probs: {probs}\")\n",
    "    argmax = torch.argmax(probs, dim=1)\n",
    "    print(f\"Percent Extinct: {argmax.sum() / len(argmax)}\")"
   ]
  },
  {
   "cell_type": "code",
   "execution_count": null,
   "id": "5fec5bb8",
   "metadata": {},
   "outputs": [
    {
     "name": "stderr",
     "output_type": "stream",
     "text": [
      "DDPM Sampling loop time step: 100%|██████████| 1000/1000 [00:40<00:00, 24.44it/s]\n"
     ]
    }
   ],
   "source": [
    "z = diffusion.sample(batch_size=16).reshape(-1, 256)\n",
    "eval_probs(z)"
   ]
  },
  {
   "cell_type": "code",
   "execution_count": 46,
   "id": "7361ee09",
   "metadata": {},
   "outputs": [
    {
     "data": {
      "text/plain": [
       "tensor([[1., 0.],\n",
       "        [1., 0.],\n",
       "        [1., 0.],\n",
       "        [1., 0.],\n",
       "        [1., 0.],\n",
       "        [1., 0.],\n",
       "        [1., 0.],\n",
       "        [1., 0.],\n",
       "        [1., 0.],\n",
       "        [1., 0.],\n",
       "        [1., 0.],\n",
       "        [1., 0.],\n",
       "        [1., 0.],\n",
       "        [1., 0.],\n",
       "        [1., 0.],\n",
       "        [1., 0.]], device='cuda:0', grad_fn=<SoftmaxBackward0>)"
      ]
     },
     "execution_count": 46,
     "metadata": {},
     "output_type": "execute_result"
    }
   ],
   "source": [
    "# Random sampling always results in not extinct (class 0) peptide\n",
    "z_rand = sample_random(batch_size=16)\n",
    "classify(z_rand)"
   ]
  },
  {
   "cell_type": "code",
   "execution_count": 63,
   "id": "a83507b1",
   "metadata": {},
   "outputs": [
    {
     "name": "stderr",
     "output_type": "stream",
     "text": [
      "DDPM Sampling loop time step: 100%|██████████| 1000/1000 [00:41<00:00, 24.14it/s]\n"
     ]
    }
   ],
   "source": [
    "def log_prob_fn_extinct(z):\n",
    "    batch_size, latent_dim = z.shape\n",
    "    logits = classifier(z)\n",
    "    log_prob_sum = F.log_softmax(input=logits, dim=1).sum(dim=0)\n",
    "    log_prob_sum[0] *= -1\n",
    "    log_prob = log_prob_sum.sum(dim=0)\n",
    "    return log_prob\n",
    "\n",
    "cond_fn_extinct = gd.get_cond_fn(\n",
    "    log_prob_fn=log_prob_fn_extinct, \n",
    "    guidance_strength=1.0, \n",
    "    clip_grad=True, \n",
    "    clip_grad_max=1.0,\n",
    "    latent_dim=256\n",
    ")\n",
    "\n",
    "z_guided = diffusion.sample(batch_size=16, cond_fn=cond_fn_extinct)\n",
    "z_guided = z_guided.reshape(-1, 256)"
   ]
  },
  {
   "cell_type": "code",
   "execution_count": null,
   "id": "df40880d",
   "metadata": {},
   "outputs": [
    {
     "name": "stdout",
     "output_type": "stream",
     "text": [
      "Diffusion Probs: tensor([[0.0000e+00, 1.0000e+00],\n",
      "        [2.5574e-04, 9.9974e-01],\n",
      "        [1.0876e-05, 9.9999e-01],\n",
      "        [8.9827e-02, 9.1017e-01],\n",
      "        [8.8552e-07, 1.0000e+00],\n",
      "        [4.0323e-29, 1.0000e+00],\n",
      "        [3.1427e-01, 6.8573e-01],\n",
      "        [6.6403e-01, 3.3597e-01],\n",
      "        [1.9429e-05, 9.9998e-01],\n",
      "        [3.0211e-04, 9.9970e-01],\n",
      "        [4.0222e-03, 9.9598e-01],\n",
      "        [1.0535e-06, 1.0000e+00],\n",
      "        [1.4940e-01, 8.5060e-01],\n",
      "        [1.6418e-11, 1.0000e+00],\n",
      "        [1.1970e-02, 9.8803e-01],\n",
      "        [5.1481e-08, 1.0000e+00]], device='cuda:0', grad_fn=<SoftmaxBackward0>)\n",
      "Percent Extinct: 0.9375\n"
     ]
    }
   ],
   "source": []
  },
  {
   "cell_type": "code",
   "execution_count": 69,
   "id": "82c14ac4",
   "metadata": {},
   "outputs": [
    {
     "data": {
      "text/plain": [
       "['PKFPNAHMPGMLLLMYTLAIIMGVVRIPFLKPWIVGD',\n",
       " 'AENNGGEMMGLPFLTWSQGTSLIDLLFSSIRERPGSSVYSV',\n",
       " 'HSRPVAVLVALIVVTEENLDERLYFSVKLSDLGLYIIMV',\n",
       " 'FTTFLGVALLFLQGLSNNLLPSISPSLLYLTISLTLFLTMLM',\n",
       " 'IVTKYVFYAVCTPEQPTREMAINQSCQLATKTVTVRVFHHVPPLVIV',\n",
       " 'HYKKMSNYAFVVKLCVARVQRERRARERPRERAPRTDDEEPLVTM',\n",
       " 'TSVTWMGMFLWLLIHTWAYTYININPTI',\n",
       " 'KTPPAATSMAWTMWYV',\n",
       " 'LYMMMWLKNMSSLHMWSIISFLLLSLLTGLTLTL',\n",
       " 'TSIILLALTSTFTSLGLLQELISTNQTLLYSLTMA',\n",
       " 'NALGLMLLWSTPVLLVPITWLSGAMINKSLPMLPQTL',\n",
       " 'RWKAPPELGGELGVLSRRRIMLPTLTPPLIAYGTPNIILVFPENNTFH',\n",
       " 'WTVNSLSGSYRVWM',\n",
       " 'GMVMMALKLAVGESNVGASGVFLFVFSGSLLEWSGGLVVVLLSVVPVD',\n",
       " 'LTPALMILIMYLKTLLVLTTTLLANTTNMLLEALAMAL',\n",
       " 'AMILTVSITNSFMEGQAVVEVMFGVSYLLGYYHILMWLTDHV']"
      ]
     },
     "execution_count": 69,
     "metadata": {},
     "output_type": "execute_result"
    }
   ],
   "source": [
    "decode(z_guided)"
   ]
  },
  {
   "cell_type": "code",
   "execution_count": 75,
   "id": "e942b8db",
   "metadata": {},
   "outputs": [
    {
     "name": "stdout",
     "output_type": "stream",
     "text": [
      "Diffusion Probs: tensor([[0.9697, 0.0303],\n",
      "        [0.8986, 0.1014],\n",
      "        [0.7736, 0.2264],\n",
      "        [0.4445, 0.5555],\n",
      "        [0.5576, 0.4424],\n",
      "        [0.9958, 0.0042],\n",
      "        [0.8961, 0.1039],\n",
      "        [0.3110, 0.6890],\n",
      "        [0.0114, 0.9886],\n",
      "        [0.6271, 0.3729],\n",
      "        [0.6524, 0.3476],\n",
      "        [0.5959, 0.4041],\n",
      "        [0.9967, 0.0033],\n",
      "        [0.9662, 0.0338],\n",
      "        [0.8483, 0.1517],\n",
      "        [0.9548, 0.0452]], device='cuda:0', grad_fn=<SoftmaxBackward0>)\n",
      "Percent Extinct: 0.1875\n",
      "Diffusion Probs: tensor([[0.0000e+00, 1.0000e+00],\n",
      "        [2.5574e-04, 9.9974e-01],\n",
      "        [1.0876e-05, 9.9999e-01],\n",
      "        [8.9827e-02, 9.1017e-01],\n",
      "        [8.8552e-07, 1.0000e+00],\n",
      "        [4.0323e-29, 1.0000e+00],\n",
      "        [3.1427e-01, 6.8573e-01],\n",
      "        [6.6403e-01, 3.3597e-01],\n",
      "        [1.9429e-05, 9.9998e-01],\n",
      "        [3.0211e-04, 9.9970e-01],\n",
      "        [4.0222e-03, 9.9598e-01],\n",
      "        [1.0535e-06, 1.0000e+00],\n",
      "        [1.4940e-01, 8.5060e-01],\n",
      "        [1.6418e-11, 1.0000e+00],\n",
      "        [1.1970e-02, 9.8803e-01],\n",
      "        [5.1481e-08, 1.0000e+00]], device='cuda:0', grad_fn=<SoftmaxBackward0>)\n",
      "Percent Extinct: 0.9375\n"
     ]
    }
   ],
   "source": [
    "# sample from diffusion (no guidance)\n",
    "eval_probs(z)\n",
    "\n",
    "# sample from diffusion (with guidance)\n",
    "eval_probs(z_guided)"
   ]
  },
  {
   "cell_type": "code",
   "execution_count": null,
   "id": "f4b50d09",
   "metadata": {},
   "outputs": [
    {
     "name": "stdout",
     "output_type": "stream",
     "text": [
      "tensor([0.0303, 0.1014, 0.2264, 0.5555, 0.4424, 0.0042, 0.1039, 0.6890, 0.9886,\n",
      "        0.3729, 0.3476, 0.4041, 0.0033, 0.0338, 0.1517, 0.0452],\n",
      "       device='cuda:0', grad_fn=<SelectBackward0>)\n"
     ]
    }
   ],
   "source": [
    "probs_z_rand_extinct = torch.softmax(input=classifier(z_rand), dim=-1)[:, 1]\n",
    "probs_z_extinct = torch.softmax(classifier(z), dim=-1)[:, 1]\n",
    "probs_z_guided_extinct = torch.softmax(classifier(z_guided), dim=-1)[:, 1]\n",
    "print(probs_z)"
   ]
  },
  {
   "cell_type": "code",
   "execution_count": null,
   "id": "3e4c016c",
   "metadata": {},
   "outputs": [],
   "source": [
    "vis.display_histograms()"
   ]
  }
 ],
 "metadata": {
  "kernelspec": {
   "display_name": "pytorch-cuda",
   "language": "python",
   "name": "python3"
  },
  "language_info": {
   "codemirror_mode": {
    "name": "ipython",
    "version": 3
   },
   "file_extension": ".py",
   "mimetype": "text/x-python",
   "name": "python",
   "nbconvert_exporter": "python",
   "pygments_lexer": "ipython3",
   "version": "3.10.18"
  }
 },
 "nbformat": 4,
 "nbformat_minor": 5
}
