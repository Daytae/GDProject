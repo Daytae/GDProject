{
 "cells": [
  {
   "cell_type": "markdown",
   "id": "22fea5a3",
   "metadata": {},
   "source": [
    "** Warning ** \n",
    "\n",
    "This will only work if you are running from root of repo"
   ]
  },
  {
   "cell_type": "code",
   "execution_count": null,
   "id": "e64e74ec",
   "metadata": {},
   "outputs": [],
   "source": []
  },
  {
   "cell_type": "code",
   "execution_count": 4,
   "id": "8122e175",
   "metadata": {},
   "outputs": [
    {
     "ename": "AttributeError",
     "evalue": "module 'gdiffusion.diffusion' has no attribute 'load_vae_selfies'",
     "output_type": "error",
     "traceback": [
      "\u001b[0;31m---------------------------------------------------------------------------\u001b[0m",
      "\u001b[0;31mAttributeError\u001b[0m                            Traceback (most recent call last)",
      "Cell \u001b[0;32mIn[4], line 1\u001b[0m\n\u001b[0;32m----> 1\u001b[0m vae \u001b[38;5;241m=\u001b[39m \u001b[43mgd\u001b[49m\u001b[38;5;241;43m.\u001b[39;49m\u001b[43mload_vae_selfies\u001b[49m(path_to_vae_statedict\u001b[38;5;241m=\u001b[39mVAE_PATH)\n",
      "\u001b[0;31mAttributeError\u001b[0m: module 'gdiffusion.diffusion' has no attribute 'load_vae_selfies'"
     ]
    }
   ],
   "source": [
    "vae = gd.load_vae_selfies(path_to_vae_statedict=VAE_PATH)\n"
   ]
  }
 ],
 "metadata": {
  "kernelspec": {
   "display_name": "pytorch-cuda",
   "language": "python",
   "name": "python3"
  },
  "language_info": {
   "codemirror_mode": {
    "name": "ipython",
    "version": 3
   },
   "file_extension": ".py",
   "mimetype": "text/x-python",
   "name": "python",
   "nbconvert_exporter": "python",
   "pygments_lexer": "ipython3",
   "version": "3.10.18"
  }
 },
 "nbformat": 4,
 "nbformat_minor": 5
}
