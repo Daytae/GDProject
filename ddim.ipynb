{
 "cells": [
  {
   "cell_type": "code",
   "execution_count": 2,
   "id": "efa9783b",
   "metadata": {},
   "outputs": [
    {
     "name": "stderr",
     "output_type": "stream",
     "text": [
      "/home/alden/miniconda3/envs/pytorch-cuda/lib/python3.10/site-packages/tqdm/auto.py:21: TqdmWarning: IProgress not found. Please update jupyter and ipywidgets. See https://ipywidgets.readthedocs.io/en/stable/user_install.html\n",
      "  from .autonotebook import tqdm as notebook_tqdm\n"
     ]
    },
    {
     "name": "stdout",
     "output_type": "stream",
     "text": [
      "device: cuda\n"
     ]
    }
   ],
   "source": [
    "# Supress pytorch pickle load warnings\n",
    "import warnings\n",
    "warnings.simplefilter(action='ignore', category=FutureWarning)\n",
    "\n",
    "# Torch\n",
    "import torch\n",
    "import torch.nn as nn\n",
    "import torch.nn.functional as F\n",
    "from torch.distributions import Normal\n",
    "import torch.optim as optim\n",
    "from torch.utils.data import TensorDataset, DataLoader\n",
    "\n",
    "# Logging\n",
    "from tqdm import tqdm\n",
    "import matplotlib.pyplot as plt\n",
    "\n",
    "# Library imports\n",
    "import gdiffusion as gd\n",
    "import util\n",
    "import util.chem as chem\n",
    "import util.visualization as vis\n",
    "import util.stats as gdstats\n",
    "\n",
    "import gdiffusion.bayesopt as bayesopt\n",
    "from gdiffusion.classifier.extinct_predictor import EsmClassificationHead\n",
    "\n",
    "device = util.util.get_device()\n",
    "print(f\"device: {device}\")\n",
    "\n",
    "# peptide diffusion\n",
    "DIFFUSION_PATH = \"saved_models/peptide_model_v1-20.pt\"\n",
    "PEPTIDE_VAE_PATH = \"saved_models/peptide_vae/peptide-vae.ckpt\"\n",
    "PEPTIDE_VAE_VOCAB_PATH = \"saved_models/peptide_vae/vocab.json\"\n",
    "EXTINCT_PREDICTOR_PATH = \"saved_models/extinct_model8417\""
   ]
  },
  {
   "cell_type": "code",
   "execution_count": 8,
   "id": "2af6dcc3",
   "metadata": {},
   "outputs": [
    {
     "name": "stdout",
     "output_type": "stream",
     "text": [
      "\n",
      "Model created successfully\n",
      "- Total parameters: 225,056,257\n",
      "- Trainable parameters: 225,056,257\n",
      "- Model size: 858.5 MB\n",
      "- Device: cuda:0\n",
      "- Model Name: LatentDiffusionModel\n",
      "- Device: cuda:0\n",
      "- Model Name: LatentDiffusionModel\n",
      "loading model from saved_models/peptide_vae/peptide-vae.ckpt\n",
      "Enc params: 2,675,904\n",
      "Dec params: 360,349\n"
     ]
    }
   ],
   "source": [
    "# Load models and helper functions\n",
    "_diffusion_model = gd.create_peptide_diffusion_model(model_path=DIFFUSION_PATH, device=device)\n",
    "diffusion = gd.create_ddim_sampler(diffusion_model=_diffusion_model, sampling_timesteps=50)\n",
    "\n",
    "classifier = torch.load(EXTINCT_PREDICTOR_PATH).eval().to(device)\n",
    "\n",
    "peptide_vae = gd.load_vae_peptides(path_to_vae_statedict=PEPTIDE_VAE_PATH, vocab_path=PEPTIDE_VAE_VOCAB_PATH)\n",
    "decode = lambda z: gd.latent_to_peptides(z, vae=peptide_vae)\n",
    "encode = lambda peptide_str: gd.peptides_to_latent(peptide_str, vae=peptide_vae)\n",
    "\n",
    "def classify(z):\n",
    "    return torch.softmax(classifier(z), dim=1)\n",
    "\n",
    "def log_prob_fn_extinct(z: torch.Tensor) -> torch.Tensor:\n",
    "    logits = classifier(z)\n",
    "    log_probs = F.log_softmax(logits, dim=1)\n",
    "    return log_probs[:, 1].sum()\n",
    "\n",
    "def eval_probs(z):\n",
    "    probs = classify(z)\n",
    "    print(f\"Diffusion Probs: {probs}\")\n",
    "    argmax = torch.argmax(probs, dim=1)\n",
    "    print(f\"Percent Extinct: {argmax.sum() / len(argmax)}\")\n",
    "\n",
    "def sample_random(batch_size):\n",
    "    return torch.randn(size=(batch_size, 256), device=device)\n",
    "\n",
    "# This is to include the automatic reshape option\n",
    "def sample(batch_size: int, guidance_scale:float = 1.0, cond_fn=None):\n",
    "    return diffusion.sample(batch_size=batch_size, guidance_scale=guidance_scale, cond_fn=cond_fn).reshape(batch_size, 256)\n",
    "\n",
    "cond_fn_extinct = gd.get_cond_fn(\n",
    "    log_prob_fn=log_prob_fn_extinct,\n",
    "    clip_grad=False,\n",
    "    latent_dim=256,\n",
    ")"
   ]
  },
  {
   "cell_type": "code",
   "execution_count": 10,
   "id": "9d9b0d13",
   "metadata": {},
   "outputs": [
    {
     "name": "stderr",
     "output_type": "stream",
     "text": [
      "DDIM Sampling Loop Time Step: 100%|██████████| 50/50 [00:01<00:00, 25.31it/s]\n"
     ]
    }
   ],
   "source": [
    "z_ddim = sample(batch_size=16, guidance_scale=8.0, cond_fn=cond_fn_extinct)"
   ]
  }
 ],
 "metadata": {
  "kernelspec": {
   "display_name": "pytorch-cuda",
   "language": "python",
   "name": "python3"
  },
  "language_info": {
   "codemirror_mode": {
    "name": "ipython",
    "version": 3
   },
   "file_extension": ".py",
   "mimetype": "text/x-python",
   "name": "python",
   "nbconvert_exporter": "python",
   "pygments_lexer": "ipython3",
   "version": "3.10.18"
  }
 },
 "nbformat": 4,
 "nbformat_minor": 5
}
