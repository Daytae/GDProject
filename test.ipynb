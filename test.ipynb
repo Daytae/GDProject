{
 "cells": [
  {
   "cell_type": "code",
   "execution_count": null,
   "id": "133b5f63",
   "metadata": {},
   "outputs": [],
   "source": []
  },
  {
   "cell_type": "code",
   "execution_count": 11,
   "id": "18051465",
   "metadata": {},
   "outputs": [
    {
     "name": "stdout",
     "output_type": "stream",
     "text": [
      "loading model from saved_models/selfies_vae/selfies-vae.ckpt\n",
      "Enc params: 1,994,592\n",
      "Dec params: 277,346\n",
      "['[C][O][C][=C][Branch1][=Branch2][C][Branch1][C][F][=C][C][Ring1][=Branch1][C][N][C][C][Ring1][Branch1][C][C][Ring1][N][C][C]', '[C][C][Branch1][C][C][C][=C][C][Branch1][N][C][=C][C][=C][Branch1][C][F][C][=C][Ring1][#Branch1][Cl][C][C][Branch1][=Branch2][C][=C][C][=C][C][=C][Ring1][=Branch1][C][Branch1][C][F][C][Ring1][=Branch1][C][N][Ring1][=Branch2][C][=C][Ring2][Ring1][Ring1]', '[C][C][Branch1][C][C][C][O][C][=Branch1][C][=O][N][C][C][C][C][Branch1][Branch1][C][C][C][C][C][=N][C][=C][Ring1][O][C][C]', '[C][C][=C][C][=Branch1][C][=O][N][C][C][C][=C][S][C][C][C][C][=Branch1][C][=O][N][Branch1][#Branch2][C][=C][N][=C][C][=C][Ring1][=Branch1][S][Ring1][N]']\n"
     ]
    },
    {
     "name": "stderr",
     "output_type": "stream",
     "text": [
      "/home/alden/Research/GDProject/model/vae/util.py:63: FutureWarning: You are using `torch.load` with `weights_only=False` (the current default value), which uses the default pickle module implicitly. It is possible to construct malicious pickle data which will execute arbitrary code during unpickling (See https://github.com/pytorch/pytorch/blob/main/SECURITY.md#untrusted-models for more details). In a future release, the default value for `weights_only` will be flipped to `True`. This limits the functions that could be executed during unpickling. Arbitrary objects will no longer be allowed to be loaded via this mode unless they are explicitly allowlisted by the user via `torch.serialization.add_safe_globals`. We recommend you start setting `weights_only=True` for any use case where you don't have full control of the loaded file. Please open an issue on GitHub for any issues related to this experimental feature.\n",
      "  state_dict = torch.load(path_to_vae_statedict, map_location=device)[\"state_dict\"]\n"
     ]
    }
   ],
   "source": [
    "# VAE TEST\n",
    "\n",
    "import model.vae\n",
    "import torch\n",
    "\n",
    "vae = model.vae.load_vae_selfies()\n",
    "print(model.vae.latent_to_selfies(z=torch.randn(4, 128), vae=vae))"
   ]
  }
 ],
 "metadata": {
  "kernelspec": {
   "display_name": "pytorch-cuda",
   "language": "python",
   "name": "python3"
  },
  "language_info": {
   "codemirror_mode": {
    "name": "ipython",
    "version": 3
   },
   "file_extension": ".py",
   "mimetype": "text/x-python",
   "name": "python",
   "nbconvert_exporter": "python",
   "pygments_lexer": "ipython3",
   "version": "3.10.18"
  }
 },
 "nbformat": 4,
 "nbformat_minor": 5
}
