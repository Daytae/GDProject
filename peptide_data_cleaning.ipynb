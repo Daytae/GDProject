{
 "cells": [
  {
   "cell_type": "markdown",
   "id": "599ce63e",
   "metadata": {},
   "source": [
    "Notebook for cleaning the peptide data"
   ]
  },
  {
   "cell_type": "code",
   "execution_count": null,
   "id": "b66d40ac",
   "metadata": {},
   "outputs": [
    {
     "name": "stderr",
     "output_type": "stream",
     "text": [
      "/home/alden/miniconda3/envs/pytorch-cuda/lib/python3.10/site-packages/tqdm/auto.py:21: TqdmWarning: IProgress not found. Please update jupyter and ipywidgets. See https://ipywidgets.readthedocs.io/en/stable/user_install.html\n",
      "  from .autonotebook import tqdm as notebook_tqdm\n"
     ]
    },
    {
     "name": "stdout",
     "output_type": "stream",
     "text": [
      "device: cuda\n"
     ]
    }
   ],
   "source": [
    "# Supress pytorch pickle load warnings\n",
    "import warnings\n",
    "warnings.simplefilter(action='ignore', category=FutureWarning)\n",
    "\n",
    "# Torch\n",
    "import torch\n",
    "import torch.nn as nn\n",
    "import torch.nn.functional as F\n",
    "from torch.distributions import Normal\n",
    "import torch.optim as optim\n",
    "from torch.utils.data import TensorDataset, DataLoader\n",
    "\n",
    "# Logging\n",
    "from tqdm import tqdm\n",
    "import matplotlib.pyplot as plt\n",
    "import pickle\n",
    "\n",
    "# Library imports\n",
    "import gdiffusion as gd\n",
    "import util\n",
    "import util.chem as chem\n",
    "import util.visualization as vis\n",
    "import util.stats as gdstats\n",
    "\n",
    "\n",
    "import gdiffusion.bayesopt as bayesopt\n",
    "from gdiffusion.classifier.logp_predictor import LogPPredictor\n",
    "\n",
    "device = util.util.get_device()\n",
    "print(f\"device: {device}\")\n",
    "\n",
    "DIFFUSION_PATH = \"saved_models/diffusion/molecule-diffusion-v1.pt\"\n",
    "SELFIES_VAE_PATH = \"saved_models/selfies_vae/selfies-vae.ckpt\"\n",
    "PEPTIDE_VAE_PATH = \"saved_models/peptide_vae/peptide-vae.ckpt\"\n",
    "LOGP_PREDICTOR_PATH = \"saved_models/logp/model-logp\"\n",
    "\n",
    "import h5py\n",
    "import numpy as np\n"
   ]
  },
  {
   "cell_type": "code",
   "execution_count": null,
   "id": "93816bb5",
   "metadata": {},
   "outputs": [
    {
     "name": "stdout",
     "output_type": "stream",
     "text": [
      "text,labels\n",
      "\n",
      "FLPQGTPSPLIPMLILIETISLFIQPMALAVRLTANITAGHLLIHL,1\n",
      "\n",
      "VMATAFMGYVLPWGQMSFWGATVITNLLSAIPYIGPTLVEWIW,0\n",
      "\n",
      "QDIRKMGGMMYTLPFTSSCLMIGTLALTGMPFMTGFYSKDHII,1\n",
      "\n",
      "AFMGYVLPWGQMSFWGATVITNLLSAIPYIGTTLVEW,0\n",
      "\n",
      "MLTMIPILMKTTNPRSTEAATKYFMTQATASMMLMMALTINLVYS,1\n",
      "\n",
      "LLVLFIMFQLKVSNHMYPMNPELIKPKLKEQKTPWE,1\n",
      "\n",
      "QCPKPTLQQISHIAQQLGLEKDVVRVWFCNRRQKGKRSSSDYSQREDF,0\n",
      "\n",
      "LASATNTWEIQQL,0\n",
      "\n",
      "IQQAFSHTQAPTLPLLGLILAATGKSAQ,0\n",
      "\n",
      "MAIAMLSLLSLFFYLRLAYHSTIILPPNSSNH,1\n",
      "\n",
      "DVIRESTFQGHHTTTVQKGLRYGMVLFIVSEVFFFLGFFW,1\n",
      "\n",
      "MISHIVTYYSGKKEPFGYMGMVWAMVSIGFLGFIVWA,0\n",
      "\n",
      "PILIAMAFLMLTERKILGYMQLRKGPNVVGPYGL,0\n",
      "\n",
      "IPMITNSLT,1\n",
      "\n",
      "PWASQTSKLPTMLITALL,0\n",
      "\n",
      "PPLSGFLPKWMIIQEMTKNSLIIMPTMMAI,1\n",
      "\n",
      "ALMVALAICSLVLYLLTLMLTEKLSS,0\n",
      "\n",
      "ADAIKLFTKEPLKPSTS,0\n",
      "\n",
      "LLILVLFLPDLLGDPDNYTPANPLN,1\n",
      "\n",
      "IIMYNPTLMALNLIIYLLMT,1\n",
      "\n",
      "IPGGPFENLEIRRFDRVKDTEWNDFEYRFIS,0\n",
      "\n",
      "ASEPYTTKFFYYLLMFLI,1\n",
      "\n",
      "NFTPANPLATPPHIKPEWYFLFAYAILRSIPNKLGG,0\n",
      "\n",
      "SMLPIILLVFAAC,0\n",
      "\n",
      "NVFGFKALRALRLEDLRIPTAYVKTFQGPPHGIQVERDKLNKYGRPLLGC,0\n",
      "\n",
      "AKMPLYGLHLWLPKA,0\n",
      "\n",
      "KDAIFSVSIAYFGIFIASF,0\n",
      "\n",
      "NMSFWLLPPSFLLLLASSTVEAGAGTGWTVYPPLAGNMAH,0\n",
      "\n",
      "KILGYMQLRKGPNIVGPLGLLQPMADGVKLFIK,1\n",
      "\n",
      "YLLFYTLISSLPLLVTILYLHMQIGTLHLTVLKLTPSALNNSWADLLS,1\n",
      "\n",
      "MTRNLMFKQPSYMHKFSNMLGYYPTTTHRILPYLGLTMSQNLATTIMD,1\n",
      "\n",
      "SNTQLYKNNLYPHYVKTTIFYAFTI,0\n",
      "\n",
      "AHVSTISICIYLNDATNLH,0\n",
      "\n",
      "IEEHGWAHWAFAPFRLAHALLAALAPARTDRGGDGDGG,0\n",
      "\n",
      "LFSAVPYIGQALVEWAWGGFSVDNP,0\n",
      "\n",
      "TGPAGARGPGPPGKAGE,1\n",
      "\n",
      "SKKAELSPPEKYMKVASPSVKEQFNQNTNV,0\n",
      "\n",
      "MFMINILSLIIP,0\n",
      "\n",
      "NSPTTITRTVKTAFMVSLIPMITFIYSGTEHIIFHWECKPVINFKIP,1\n",
      "\n",
      "VGFVGFSSKPSPIYGGLVLIVSGGVGCGIVLNFGGSFLGLMVFLIY,1\n",
      "\n",
      "LANGVKLTDNQLVVPLDGLYLIYSQVLFKGQGCP,1\n",
      "\n",
      "GGMLVVFVYSVSLAADPFPEAWGDWRVMGYGLGFVLVLVVGVVVGGFVGE,0\n",
      "\n",
      "SQFGFQDASSPIMEELVEFHDHALMVALAICSLVLYLLMLML,0\n",
      "\n",
      "LAVTILGFMLALELSLMTHNLKLEHSTSVFKFSNLLGYYPTIMHRLPPLA,1\n",
      "\n",
      "LILMLALLLTLTLFSPN,0\n",
      "\n",
      "FLLYEYDIFWAFLIISSLIPILAFFISGILAPIRKGPEKLSSYESG,0\n",
      "\n",
      "GGLVLIVSGGVGCGIVLNFGGSF,1\n",
      "\n",
      "VGEPGPLGISGPPGARGPPGAVGPGVN,1\n",
      "\n",
      "EDWMIFGGKEGSVIREDSLGVASLYNITSWFMVVAGWSLFISVL,1\n",
      "\n",
      "TRIIFYALLNQPRFPPLILINENNPLLINSIKRL,0\n",
      "\n",
      "KFLWTNTTTYSLLIATLS,0\n",
      "\n",
      "EVDNRMVLPMDLPVRVLVSSEDVLH,1\n",
      "\n",
      "NPIKRLAAGSLFAGFLITNNISPASPFQTTIPLYLKLTALAVTFLGL,0\n",
      "\n",
      "SPLIFTTI,0\n",
      "\n",
      "MVNPSPWPLTGALSALLMTSGLIMWFHFNSTYLL,0\n",
      "\n",
      "LLEIPQDLPPSLQLLSLEANNI,0\n",
      "\n",
      "PVGLPGIDGRPGPVGPAGR,1\n",
      "\n",
      "TLAANLFILTWIGSQPVEHPFIIIGQLASLTYFTII,0\n",
      "\n",
      "EYTNIIMMNTLTTTIFLGTTYNALSPELYT,0\n",
      "\n",
      "AFSACEAGAGLAMLVASTRTH,0\n",
      "\n",
      "STNNLLHYPFIALALWGALMTSSICLRQIDLKSLIAYSSVSHMGLV,1\n",
      "\n",
      "QLDTSTWLTMILSMFLTLFIIFQLKISKHNFHYNPELTSTKMLKQ,0\n",
      "\n",
      "TGLFLAMHYTSDTMTAFSSVTHICRDVNYGWIIRYLHANGASMFFIC,0\n",
      "\n",
      "SLRILYMMDEINNPSLTVKTMGHQWYWSYEYTDYGD,0\n",
      "\n",
      "LWSGWASNSKYALIGALRAVAQTISYEVSLAIIL,0\n",
      "\n",
      "THPQTVSEDICVQKLVTDSSPCKNKNAAT,1\n",
      "\n",
      "ESSTGTWTTVWTDR,0\n",
      "\n",
      "PYGLLQPIADALKLFIKEPLQPLTSSTSMFIIAPIL,1\n",
      "\n",
      "PRAIEAAIKYFLVQAAASTLVLFSSTINAWHSGQWDLTQLTHPTSCSL,1\n",
      "\n",
      "RTFHTGGVFTGGTAEHVRAPSNGKIKFNEDLVHPTRTRHGHPAFLCS,0\n",
      "\n",
      "FYTPKGSDHSSITTRI,0\n",
      "\n",
      "STWFTTILSMVLTLFIMFQLTLSKHHYPKAPESKAPMPLKTKTP,1\n",
      "\n",
      "DFKDLTFDSYMTPTTDLPLGHFRLLEVDHRVVVPMESPVRVIVTA,0\n",
      "\n",
      "LSLLIRAELGQPGTLLGDDQ,0\n",
      "\n",
      "FCLSNTNYERIH,0\n",
      "\n",
      "GIPGPPGAPGPQG,0\n",
      "\n",
      "LLLTVPIMMTSLNTYKSSNYPLYVKTT,0\n",
      "\n",
      "FITSLVPMSLFMYSGSESIISHLEWKFIMNFKIPISLKMDQYSLMFLPIA,1\n",
      "\n",
      "LALGLLSMLLVMLQWWRDVVRESTFQGHHTP,0\n",
      "\n",
      "NTTPLKTQPMTMPIHIKIAALTVTVLGLLLALELTTMTN,1\n",
      "\n",
      "TLTTLLLPIMLPLISPKLQNTPS,1\n",
      "\n",
      "TVSKDLNPMASIVMTAALAMKLGLAPFHFWVP,1\n",
      "\n",
      "LMTLVATSLTAVYSTRIIF,0\n",
      "\n",
      "FPVVYIGAIAVSFLFVVMMFNIQIAEIHEEVLRYLPVSGIIGLIFWW,0\n",
      "\n",
      "TLVLGITLGVLVIVWLEREISAGIQQRIGPEY,0\n",
      "\n",
      "TSTMDAQEVETIWTILPAIILILIALPSLQ,1\n",
      "\n",
      "INFHFTSNHHFGF,0\n",
      "\n",
      "IFLVARLLPLFIVIPYIMNLISFIGIITVLLGATLALAQKD,0\n",
      "\n",
      "LAMHYTSDTMTAFSSVTHICRDVNYGWLIRYMHANGASMFFICLF,0\n",
      "\n",
      "YMLPILIAVAFLTLIERKILGYMQLRKGPNIVGPL,1\n",
      "\n",
      "SDQTSSTIMTLALAMKLGLAPFHFWVPEVTQGIP,0\n",
      "\n",
      "VQKNIAAFGGNPKSVTLFGESAGAASVSLHLLSPRSHPFFTR,0\n",
      "\n",
      "ELTPTNVEWLHGCPPPYHTYEEPAHVQT,0\n",
      "\n",
      "FLVMFIGVNLTFFPQHFLGLSGMPRRYSDYPDAYTAWNTASSMGSFISLV,0\n",
      "\n",
      "MEGNRKNMLQALLITILLGVYFTL,0\n",
      "\n",
      "MIISMLSLLGLFFYLRLAYYATITLPPNSANHMKQWHTNKHTSSPTAVLT,1\n",
      "\n",
      "GSLHMPMMSIMN,1\n",
      "\n",
      "VFAILAGLTHWFPLF,0\n",
      "\n",
      "ALLLTLLATTFTATYSLRMAMLIQTGH,1\n",
      "\n"
     ]
    }
   ],
   "source": [
    "with open(file=\"data/raw_peptide/peptide_raw_10M.csv\") as f:\n",
    "    for i in range(100):\n",
    "        print(f.readline())\n",
    "\n",
    "# data is PEPTIDE, EXTINCT"
   ]
  },
  {
   "cell_type": "code",
   "execution_count": null,
   "id": "e733ca3c",
   "metadata": {},
   "outputs": [
    {
     "name": "stdout",
     "output_type": "stream",
     "text": [
      "sequence\n",
      "\n",
      "QRSTPYCRQSIPKGTIV\n",
      "\n",
      "STPYCRQSIPKGTIVPLKGP\n",
      "\n",
      "GIISHIWALARHTLFTNTFQDDER\n",
      "\n",
      "TGTGNALRRRATSVATSVGTD\n",
      "\n"
     ]
    }
   ],
   "source": [
    "with open(\"data/raw_peptide/peptide_raw_4p5.csv\") as f:\n",
    "    for _ in range(5):\n",
    "        print(f.readline())\n",
    "\n",
    "# all non-extinct (0)"
   ]
  },
  {
   "cell_type": "code",
   "execution_count": 9,
   "id": "df3c7f47",
   "metadata": {},
   "outputs": [],
   "source": [
    "# dataset lengths:\n",
    "def get_num_lines(file_name):\n",
    "    total_lines = 0\n",
    "    with open(file_name, 'r') as f:\n",
    "        for line in f:\n",
    "            if line.strip():\n",
    "                total_lines += 1\n",
    "    return total_lines\n",
    "\n",
    "peptide_10m_len = get_num_lines(\"data/raw_peptide/peptide_raw_10M.csv\")\n",
    "peptide_4p5_len = get_num_lines(\"data/raw_peptide/peptide_raw_4p5.csv\")"
   ]
  },
  {
   "cell_type": "code",
   "execution_count": null,
   "id": "c489bb59",
   "metadata": {},
   "outputs": [
    {
     "name": "stdout",
     "output_type": "stream",
     "text": [
      "10 Million Peptide Len: 10274724\n",
      "4.5 Million Peptide Len: 4500001\n"
     ]
    }
   ],
   "source": [
    "print(f\"10 Million Peptide Len: {peptide_10m_len}\")\n",
    "print(f\"4.5 Million Peptide Len: {peptide_4p5_len}\")"
   ]
  },
  {
   "cell_type": "code",
   "execution_count": null,
   "id": "52a3c12f",
   "metadata": {},
   "outputs": [],
   "source": [
    "# subtract 2 for the header lines\n",
    "total_len = peptide_10m_len + peptide_4p5_len - 2"
   ]
  },
  {
   "cell_type": "code",
   "execution_count": 16,
   "id": "294da046",
   "metadata": {},
   "outputs": [],
   "source": [
    "peptide_latent_dim = 256"
   ]
  },
  {
   "cell_type": "code",
   "execution_count": null,
   "id": "23aa3875",
   "metadata": {},
   "outputs": [],
   "source": [
    "# # Create h5py file, do not run again!\n",
    "\n",
    "# # data source is if its from the 10M dataset (0) or the 4.5M dataset (1)\n",
    "# dataset_file = \"data/peptide_dataset.h5\"\n",
    "# with h5py.File(dataset_file, 'w') as h5file:\n",
    "#     peptide_dataset = h5file.create_dataset('PEPTIDES', (total_len), dtype=h5py.string_dtype())\n",
    "#     extinct_dataset = h5file.create_dataset('EXTINCT', (total_len), dtype=bool)\n",
    "#     data_source = h5file.create_dataset('DATA_SOURCE', (total_len), dtype=np.int8)\n",
    "#     latents = h5file.create_dataset('LATENTS', (total_len, peptide_latent_dim), dtype=np.float32)\n",
    "    "
   ]
  },
  {
   "cell_type": "code",
   "execution_count": 24,
   "id": "058a7359",
   "metadata": {},
   "outputs": [],
   "source": [
    "# Read from peptide latent data:\n",
    "def read_peptide_dataset_raw(i: int, data_path=\"data/peptide_dataset.h5\"):\n",
    "    with h5py.File(data_path, 'r') as f:\n",
    "        return f['PEPTIDES'][i], f['EXTINCT'][i], f['DATA_SOURCE'][i], f['LATENTS'][i]\n",
    "    \n",
    "def read_peptide_dataset(i: int, data_path=\"data/peptide_dataset.h5\"):\n",
    "    with h5py.File(data_path, 'r') as f:\n",
    "        raw_peptide, raw_extinct, raw_datasource, raw_latent = f['PEPTIDES'][i], f['EXTINCT'][i], f['DATA_SOURCE'][i], f['LATENTS'][i]\n",
    "        peptide = raw_peptide.decode('utf-8')\n",
    "        extinct = bool(raw_extinct)\n",
    "        datasource = 'peptide_10M' if raw_datasource == 0 else 'peptide_4.5M'\n",
    "        latent = raw_latent\n",
    "\n",
    "    return peptide, latent, extinct, datasource"
   ]
  },
  {
   "cell_type": "code",
   "execution_count": 28,
   "id": "a50480f1",
   "metadata": {},
   "outputs": [],
   "source": [
    "RAW_DATA_PATH = \"data/raw_peptide/peptide_raw_10M.csv\"\n",
    "PEPTIDE_DATASET_PATH = \"data/peptide_dataset.h5\""
   ]
  },
  {
   "cell_type": "code",
   "execution_count": 58,
   "id": "88ef5bc4",
   "metadata": {},
   "outputs": [],
   "source": [
    "RAW_DATA_PATH_4P5 = \"data/raw_peptide/peptide_raw_4p5.csv\""
   ]
  },
  {
   "cell_type": "code",
   "execution_count": 42,
   "id": "2841a156",
   "metadata": {},
   "outputs": [
    {
     "name": "stderr",
     "output_type": "stream",
     "text": [
      "Reading Peptide10M CSV: 100%|█████████▉| 10274723/10274724 [16:58<00:00, 10089.92it/s]\n"
     ]
    }
   ],
   "source": [
    "def write_peptide_10M_dataset(start_idx: int = 0, start_line_num: int = 1):\n",
    "    # line_num is 0-indexed, so line_num 0 is the first line!\n",
    "    \n",
    "    with open(RAW_DATA_PATH, 'r') as infile, h5py.File(PEPTIDE_DATASET_PATH, 'r+') as outfile:\n",
    "        peptide_ds = outfile['PEPTIDES']\n",
    "        extinct_ds = outfile['EXTINCT']\n",
    "        data_source_ds = outfile['DATA_SOURCE']\n",
    "\n",
    "        # skip first start_line_num lines in infile csv\n",
    "        for _ in range(start_line_num):\n",
    "            next(infile)\n",
    "\n",
    "        idx = start_idx\n",
    "        for line_num, raw_line in tqdm(enumerate(infile, start=start_line_num), total=peptide_10m_len, desc='Reading Peptide10M CSV'):\n",
    "            try:\n",
    "                raw_line = raw_line.strip()\n",
    "                peptide, extinct = raw_line.split(',')\n",
    "\n",
    "                if peptide is None or extinct is None:\n",
    "                    raise ValueError(f\"peptide, extinct is wrong: peptide={peptide} extinct={extinct}\")\n",
    "\n",
    "                if peptide_ds[idx] != b'':\n",
    "                    print(f\"Warning, overriding peptide data: {peptide_ds[idx]}! Aborting\")\n",
    "                    raise ValueError(\"See above.\")\n",
    "                \n",
    "                peptide_ds[idx] = peptide\n",
    "                extinct_ds[idx] = extinct\n",
    "                data_source_ds[idx] = 0 # this coorosponds to the 10M dataset\n",
    "                idx += 1\n",
    "\n",
    "            except Exception as e:\n",
    "                print(f\"Encountered an error while processing line_num {line_num}\")\n",
    "                print(f\"Line was {raw_line} \")\n",
    "                print(f\"peptide = {peptide} \")\n",
    "                print(f\"extinct = {extinct} \")\n",
    "                print(f\"Attempted to index into idx={idx}\")\n",
    "                print(\"Error MSG:\")\n",
    "                print(e)\n",
    "\n",
    "                print(f\"Removing idx: {idx} data\")\n",
    "                peptide_ds[idx] = ''\n",
    "                extinct_ds[idx] = False\n",
    "                data_source_ds[idx] = 0\n",
    "                return\n",
    "\n",
    "# write_peptide_10M_dataset()"
   ]
  },
  {
   "cell_type": "code",
   "execution_count": null,
   "id": "99269ac4",
   "metadata": {},
   "outputs": [
    {
     "name": "stderr",
     "output_type": "stream",
     "text": [
      "Reading Peptide 4.5M CSV: 100%|█████████▉| 4500000/4500001 [07:29<00:00, 10001.05it/s]\n"
     ]
    }
   ],
   "source": [
    "# TODO: Determine start_idx\n",
    "def write_peptide_4p5M_dataset(start_idx: int = None, start_line_num: int = 1):\n",
    "    # line_num is 0-indexed, so line_num 0 is the first line!\n",
    "    \n",
    "    with open(RAW_DATA_PATH_4P5, 'r') as infile, h5py.File(PEPTIDE_DATASET_PATH, 'r+') as outfile:\n",
    "        peptide_ds = outfile['PEPTIDES']\n",
    "        extinct_ds = outfile['EXTINCT']\n",
    "        data_source_ds = outfile['DATA_SOURCE']\n",
    "\n",
    "        # skip first start_line_num lines in infile csv\n",
    "        for _ in range(start_line_num):\n",
    "            next(infile)\n",
    "\n",
    "        idx = start_idx\n",
    "        for line_num, raw_line in tqdm(enumerate(infile, start=start_line_num), total=peptide_4p5_len, desc='Reading Peptide 4.5M CSV'):\n",
    "            try:\n",
    "                peptide = raw_line.strip()\n",
    "\n",
    "                if peptide is None:\n",
    "                    raise ValueError(f\"peptide, extinct is wrong: peptide={peptide}\")\n",
    "\n",
    "                if peptide_ds[idx] != b'':\n",
    "                    print(f\"Warning, overriding peptide data: {peptide_ds[idx]}! Aborting\")\n",
    "                    raise ValueError(\"See above.\")\n",
    "                \n",
    "                peptide_ds[idx] = peptide\n",
    "                extinct_ds[idx] = False # these are all modern peptides, so they are all NOT extinct\n",
    "                data_source_ds[idx] = 1 # this coorosponds to the 4.5 dataset\n",
    "                idx += 1\n",
    "\n",
    "            except Exception as e:\n",
    "                print(f\"Encountered an error while processing line_num {line_num}\")\n",
    "                print(f\"Line was {raw_line} \")\n",
    "                print(f\"peptide = {peptide} \")\n",
    "                print(f\"Attempted to index into idx={idx}\")\n",
    "                print(\"Error MSG:\")\n",
    "                print(e)\n",
    "\n",
    "                print(f\"Removing idx: {idx} data\")\n",
    "                peptide_ds[idx] = ''\n",
    "                extinct_ds[idx] = False\n",
    "                data_source_ds[idx] = 0\n",
    "                return\n",
    "\n",
    "peptide_start_index = peptide_10m_len - 1\n",
    "# write_peptide_4p5M_dataset(start_idx=peptide_start_index)"
   ]
  },
  {
   "cell_type": "code",
   "execution_count": 62,
   "id": "753a3b2e",
   "metadata": {},
   "outputs": [
    {
     "name": "stderr",
     "output_type": "stream",
     "text": [
      "  5%|▍         | 684970/14774723 [00:32<11:14, 20879.79it/s]\n"
     ]
    },
    {
     "ename": "KeyboardInterrupt",
     "evalue": "",
     "output_type": "error",
     "traceback": [
      "\u001b[0;31m---------------------------------------------------------------------------\u001b[0m",
      "\u001b[0;31mKeyboardInterrupt\u001b[0m                         Traceback (most recent call last)",
      "Cell \u001b[0;32mIn[62], line 11\u001b[0m\n\u001b[1;32m      9\u001b[0m peptide \u001b[38;5;241m=\u001b[39m peptide_ds[idx]\u001b[38;5;241m.\u001b[39mdecode(\u001b[38;5;124m'\u001b[39m\u001b[38;5;124mutf-8\u001b[39m\u001b[38;5;124m'\u001b[39m)\n\u001b[1;32m     10\u001b[0m extinct \u001b[38;5;241m=\u001b[39m extinct_ds[idx]\n\u001b[0;32m---> 11\u001b[0m data_source \u001b[38;5;241m=\u001b[39m \u001b[43mextinct_ds\u001b[49m\u001b[43m[\u001b[49m\u001b[43midx\u001b[49m\u001b[43m]\u001b[49m\n\u001b[1;32m     13\u001b[0m \u001b[38;5;28;01mif\u001b[39;00m \u001b[38;5;28mlen\u001b[39m(peptide) \u001b[38;5;241m<\u001b[39m\u001b[38;5;241m=\u001b[39m \u001b[38;5;241m4\u001b[39m:\n\u001b[1;32m     14\u001b[0m     \u001b[38;5;28mprint\u001b[39m(\u001b[38;5;124mf\u001b[39m\u001b[38;5;124m\"\u001b[39m\u001b[38;5;124mSmall Peptide peptide at index \u001b[39m\u001b[38;5;132;01m{\u001b[39;00midx\u001b[38;5;132;01m}\u001b[39;00m\u001b[38;5;124m: \u001b[39m\u001b[38;5;132;01m{\u001b[39;00mpeptide\u001b[38;5;132;01m}\u001b[39;00m\u001b[38;5;124m\"\u001b[39m)\n",
      "File \u001b[0;32mh5py/_objects.pyx:56\u001b[0m, in \u001b[0;36mh5py._objects.with_phil.wrapper\u001b[0;34m()\u001b[0m\n",
      "File \u001b[0;32mh5py/_objects.pyx:57\u001b[0m, in \u001b[0;36mh5py._objects.with_phil.wrapper\u001b[0;34m()\u001b[0m\n",
      "File \u001b[0;32m~/miniconda3/envs/pytorch-cuda/lib/python3.10/site-packages/h5py/_hl/dataset.py:804\u001b[0m, in \u001b[0;36mDataset.__getitem__\u001b[0;34m(self, args, new_dtype)\u001b[0m\n\u001b[1;32m    798\u001b[0m \u001b[38;5;250m    \u001b[39m\u001b[38;5;124;03m\"\"\"Is this dataset suitable for simple reading\"\"\"\u001b[39;00m\n\u001b[1;32m    799\u001b[0m     \u001b[38;5;28;01mreturn\u001b[39;00m (\n\u001b[1;32m    800\u001b[0m         \u001b[38;5;28mself\u001b[39m\u001b[38;5;241m.\u001b[39m_extent_type \u001b[38;5;241m==\u001b[39m h5s\u001b[38;5;241m.\u001b[39mSIMPLE\n\u001b[1;32m    801\u001b[0m         \u001b[38;5;129;01mand\u001b[39;00m \u001b[38;5;28misinstance\u001b[39m(\u001b[38;5;28mself\u001b[39m\u001b[38;5;241m.\u001b[39mid\u001b[38;5;241m.\u001b[39mget_type(), (h5t\u001b[38;5;241m.\u001b[39mTypeIntegerID, h5t\u001b[38;5;241m.\u001b[39mTypeFloatID))\n\u001b[1;32m    802\u001b[0m     )\n\u001b[0;32m--> 804\u001b[0m \u001b[38;5;129m@with_phil\u001b[39m\n\u001b[1;32m    805\u001b[0m \u001b[38;5;28;01mdef\u001b[39;00m\u001b[38;5;250m \u001b[39m\u001b[38;5;21m__getitem__\u001b[39m(\u001b[38;5;28mself\u001b[39m, args, new_dtype\u001b[38;5;241m=\u001b[39m\u001b[38;5;28;01mNone\u001b[39;00m):\n\u001b[1;32m    806\u001b[0m \u001b[38;5;250m    \u001b[39m\u001b[38;5;124;03m\"\"\" Read a slice from the HDF5 dataset.\u001b[39;00m\n\u001b[1;32m    807\u001b[0m \n\u001b[1;32m    808\u001b[0m \u001b[38;5;124;03m    Takes slices and recarray-style field names (more than one is\u001b[39;00m\n\u001b[0;32m   (...)\u001b[0m\n\u001b[1;32m    814\u001b[0m \u001b[38;5;124;03m    * Boolean \"mask\" array indexing\u001b[39;00m\n\u001b[1;32m    815\u001b[0m \u001b[38;5;124;03m    \"\"\"\u001b[39;00m\n\u001b[1;32m    816\u001b[0m     args \u001b[38;5;241m=\u001b[39m args \u001b[38;5;28;01mif\u001b[39;00m \u001b[38;5;28misinstance\u001b[39m(args, \u001b[38;5;28mtuple\u001b[39m) \u001b[38;5;28;01melse\u001b[39;00m (args,)\n",
      "\u001b[0;31mKeyboardInterrupt\u001b[0m: "
     ]
    }
   ],
   "source": [
    "# Confirming data:\n",
    "peptide_amino_acids = set('ACDEFGHIKLMNPQRSTVWY')\n",
    "with h5py.File(\"data/peptide_dataset.h5\", mode='r') as f:\n",
    "    peptide_ds = f['PEPTIDES']\n",
    "    extinct_ds = f['EXTINCT']\n",
    "    data_source_ds = f['DATA_SOURCE']\n",
    "\n",
    "    for idx in tqdm(range(len(peptide_ds))):\n",
    "        peptide = peptide_ds[idx].decode('utf-8')\n",
    "        extinct = extinct_ds[idx]\n",
    "        data_source = extinct_ds[idx]\n",
    "\n",
    "        if len(peptide) <= 4:\n",
    "            print(f\"Small Peptide peptide at index {idx}: {peptide}\")\n",
    "\n",
    "        if not peptide.isupper():\n",
    "            print(f\"Peptide at index {idx} is not uppercase: {peptide}\")\n",
    "        \n",
    "        if not all(c in peptide_amino_acids for c in peptide):\n",
    "            print(f\"Peptide at index {idx} is not a valid peptide! {peptide}\")"
   ]
  },
  {
   "cell_type": "code",
   "execution_count": 67,
   "id": "61a5fcd7",
   "metadata": {},
   "outputs": [
    {
     "name": "stdout",
     "output_type": "stream",
     "text": [
      "\n",
      "    Peptide: ALAPRHADVVAPRLMAITRAGVTALVLTAFLGVRGLNPGADLL\n",
      "    Extinct: False\n",
      "    Data Source: peptide_4.5M\n",
      "    \n"
     ]
    }
   ],
   "source": [
    "peptide, _, extinct, data_source = read_peptide_dataset(total_len-1)\n",
    "string_print = f\"\"\"\n",
    "    Peptide: {peptide}\n",
    "    Extinct: {str(extinct)}\n",
    "    Data Source: {data_source}\n",
    "    \"\"\"\n",
    "print(string_print)"
   ]
  },
  {
   "cell_type": "code",
   "execution_count": null,
   "id": "097430e3",
   "metadata": {},
   "outputs": [],
   "source": [
    "# attatch latents to dataset (this will take a long long time)\n",
    "\n",
    "vae = gd.load_vae_peptides()\n",
    "gd.peptides_to_latent()"
   ]
  },
  {
   "cell_type": "code",
   "execution_count": null,
   "id": "968a4df7",
   "metadata": {},
   "outputs": [],
   "source": [
    "from difflib import SequenceMatcher\n",
    "\n",
    "def peptides_similar(seq1, seq2, max_changes=5):\n",
    "   matcher = SequenceMatcher(None, seq1, seq2)\n",
    "   opcodes = matcher.get_opcodes()\n",
    "   changes = sum(1 for tag, _, _, _, _ in opcodes if tag != 'equal')\n",
    "   return changes <= max_changes"
   ]
  }
 ],
 "metadata": {
  "kernelspec": {
   "display_name": "pytorch-cuda",
   "language": "python",
   "name": "python3"
  },
  "language_info": {
   "codemirror_mode": {
    "name": "ipython",
    "version": 3
   },
   "file_extension": ".py",
   "mimetype": "text/x-python",
   "name": "python",
   "nbconvert_exporter": "python",
   "pygments_lexer": "ipython3",
   "version": "3.10.18"
  }
 },
 "nbformat": 4,
 "nbformat_minor": 5
}
