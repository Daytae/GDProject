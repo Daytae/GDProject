{
 "cells": [
  {
   "cell_type": "markdown",
   "id": "94dca33a",
   "metadata": {},
   "source": []
  },
  {
   "cell_type": "markdown",
   "id": "0a0a629d",
   "metadata": {},
   "source": [
    "Forward Model Idea:\n",
    "\n",
    "1. Take synthetic data generated earlier\n",
    "2. Train model to predict from (latent, synthetic NMR) data pairs\n",
    "3. Assess results"
   ]
  }
 ],
 "metadata": {
  "kernelspec": {
   "display_name": "pytorch-cuda",
   "language": "python",
   "name": "python3"
  },
  "language_info": {
   "codemirror_mode": {
    "name": "ipython",
    "version": 3
   },
   "file_extension": ".py",
   "mimetype": "text/x-python",
   "name": "python",
   "nbconvert_exporter": "python",
   "pygments_lexer": "ipython3",
   "version": "3.10.18"
  }
 },
 "nbformat": 4,
 "nbformat_minor": 5
}
