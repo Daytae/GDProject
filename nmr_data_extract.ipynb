{
 "cells": [
  {
   "cell_type": "code",
   "execution_count": 2,
   "id": "15098236",
   "metadata": {},
   "outputs": [],
   "source": [
    "import json\n",
    "\n",
    "with open('data/e28be2b6-1b13-4310-a130-c58d084ffc9a.json', 'r') as file:\n",
    "    # Load the JSON data from the file\n",
    "    data = json.load(file)\n"
   ]
  },
  {
   "cell_type": "code",
   "execution_count": 8,
   "id": "99875abe",
   "metadata": {},
   "outputs": [
    {
     "name": "stdout",
     "output_type": "stream",
     "text": [
      "Missing IDs/Names: 96.43%\n"
     ]
    }
   ],
   "source": [
    "missing_ids = 0\n",
    "num_spectras = 0\n",
    "\n",
    "for nmr_spectra in data:\n",
    "    num_spectras += 1\n",
    "    compound_id = nmr_spectra.get('compound_id')\n",
    "    compound_name = nmr_spectra.get('compound_name')\n",
    "\n",
    "\n",
    "    # reject missing data\n",
    "    if compound_id is None and compound_name is None:\n",
    "        missing_ids += 1\n",
    "        continue\n",
    "\n",
    "    \n",
    "\n",
    "    break\n",
    "\n",
    "print(f\"Missing IDs/Names: {(missing_ids / num_spectras)*100:.2f}%\")"
   ]
  },
  {
   "cell_type": "code",
   "execution_count": null,
   "id": "659e712c",
   "metadata": {},
   "outputs": [],
   "source": []
  }
 ],
 "metadata": {
  "kernelspec": {
   "display_name": "pytorch-cuda",
   "language": "python",
   "name": "python3"
  },
  "language_info": {
   "codemirror_mode": {
    "name": "ipython",
    "version": 3
   },
   "file_extension": ".py",
   "mimetype": "text/x-python",
   "name": "python",
   "nbconvert_exporter": "python",
   "pygments_lexer": "ipython3",
   "version": "3.10.18"
  }
 },
 "nbformat": 4,
 "nbformat_minor": 5
}
