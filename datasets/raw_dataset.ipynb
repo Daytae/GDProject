{
 "cells": [
  {
   "cell_type": "markdown",
   "id": "20a90f8f",
   "metadata": {},
   "source": [
    "**NOTE**\n",
    "\n",
    "This script MUST be run from the root / in order to work. Blame python for being idiotic, I don't know how to fix it"
   ]
  },
  {
   "cell_type": "code",
   "execution_count": 1,
   "id": "9abbcef6",
   "metadata": {},
   "outputs": [],
   "source": [
    "import h5py\n",
    "import numpy as np\n",
    "import pandas as pd\n",
    "import selfies as sf\n",
    "from tqdm import tqdm\n",
    "import model.vae"
   ]
  },
  {
   "cell_type": "code",
   "execution_count": 2,
   "id": "e241333f",
   "metadata": {},
   "outputs": [
    {
     "name": "stderr",
     "output_type": "stream",
     "text": [
      "/home/alden/Research/GDProject/model/vae/util.py:63: FutureWarning: You are using `torch.load` with `weights_only=False` (the current default value), which uses the default pickle module implicitly. It is possible to construct malicious pickle data which will execute arbitrary code during unpickling (See https://github.com/pytorch/pytorch/blob/main/SECURITY.md#untrusted-models for more details). In a future release, the default value for `weights_only` will be flipped to `True`. This limits the functions that could be executed during unpickling. Arbitrary objects will no longer be allowed to be loaded via this mode unless they are explicitly allowlisted by the user via `torch.serialization.add_safe_globals`. We recommend you start setting `weights_only=True` for any use case where you don't have full control of the loaded file. Please open an issue on GitHub for any issues related to this experimental feature.\n",
      "  state_dict = torch.load(path_to_vae_statedict, map_location=device)[\"state_dict\"]\n"
     ]
    },
    {
     "name": "stdout",
     "output_type": "stream",
     "text": [
      "loading model from saved_models/selfies_vae/selfies-vae.ckpt\n",
      "Enc params: 1,994,592\n",
      "Dec params: 277,346\n"
     ]
    }
   ],
   "source": [
    "vae = model.vae.load_vae_selfies()"
   ]
  },
  {
   "cell_type": "code",
   "execution_count": 3,
   "id": "5d4e9305",
   "metadata": {},
   "outputs": [],
   "source": [
    "# Create the SMILES, SELFIES csv file\n",
    "\n",
    "smiles_dataset_path = \"data/guacamol.smiles\"\n",
    "output_path = \"data/molecule_dataset.csv\"\n",
    "\n",
    "def smiles_to_selfies(smiles: str):\n",
    "    ''' Converts a smiles string to selfies representation - returns None on failure'''\n",
    "    smiles = smiles.strip()\n",
    "    try:\n",
    "        selfies = sf.encoder(smiles=smiles, strict=True)\n",
    "        return selfies\n",
    "    except Exception as e:\n",
    "        return None\n",
    "\n",
    "# deprecated, don't use\n",
    "# def create_smiles_selfies_csv(smiles_dataset_path=\"data/guacamol.smiles\", output_path=\"data/molecule_dataset.csv\"):\n",
    "#     # get total lines\n",
    "#     with open(smiles_dataset_path, 'r') as infile:\n",
    "#         total_lines = sum(1 for line in infile if line.strip())\n",
    "#         print(f\"File has {total_lines} lines\")\n",
    "    \n",
    "#     with open(smiles_dataset_path, 'r') as infile, open(output_path, 'w') as outfile:\n",
    "#         outfile.write(\"SMILES,SELFIES\\n\")\n",
    "        \n",
    "#         for line in tqdm(infile, desc='Converting to SELFIES', total=total_lines):\n",
    "#             smiles = line.strip()\n",
    "#             if smiles:\n",
    "#                 selfies = smiles_to_selfies(smiles)\n",
    "#                 if selfies is not None:\n",
    "#                     outfile.write(f\"{smiles},{selfies}\\n\")\n",
    "#                 else:\n",
    "#                     print(f\"Warning: Failed to convert SMILES '{smiles}' to SELFIES\")\n",
    "\n",
    "def create_smiles_selfies_h5(smiles_dataset_path=\"data/guacamol.smiles\", output_path=\"data/molecule_dataset.h5\"):\n",
    "    # get total lines\n",
    "    with open(smiles_dataset_path, 'r') as infile:\n",
    "        total_lines = sum(1 for line in infile if line.strip())\n",
    "    print(f\"File has {total_lines} lines\")\n",
    "    \n",
    "    with h5py.File(output_path, 'w') as h5file:\n",
    "        # Create fixed-size datasets\n",
    "        smiles_dataset = h5file.create_dataset('SMILES', (total_lines,), dtype=h5py.string_dtype())\n",
    "        selfies_dataset = h5file.create_dataset('SELFIES', (total_lines,), dtype=h5py.string_dtype())\n",
    "        \n",
    "        idx = 0\n",
    "        with open(smiles_dataset_path, 'r') as infile:\n",
    "            for line in tqdm(infile, desc='Converting to SELFIES', total=total_lines):\n",
    "                smiles = line.strip()\n",
    "                if smiles:\n",
    "                    selfies = smiles_to_selfies(smiles)\n",
    "                    if selfies is not None:\n",
    "                        smiles_dataset[idx] = smiles\n",
    "                        selfies_dataset[idx] = selfies\n",
    "                        idx += 1\n",
    "                    else:\n",
    "                        print(f\"Warning: Failed to convert SMILES '{smiles}' to SELFIES\")"
   ]
  },
  {
   "cell_type": "code",
   "execution_count": null,
   "id": "2fea1d86",
   "metadata": {},
   "outputs": [
    {
     "name": "stdout",
     "output_type": "stream",
     "text": [
      "File has 1591378 lines\n"
     ]
    },
    {
     "name": "stderr",
     "output_type": "stream",
     "text": []
    },
    {
     "name": "stdout",
     "output_type": "stream",
     "text": [
      "Warning: Failed to convert SMILES 'Cc1ccc(S(=O)(=O)O[IH2](O)CC(F)(F)F)cc1' to SELFIES\n"
     ]
    },
    {
     "name": "stderr",
     "output_type": "stream",
     "text": []
    },
    {
     "name": "stdout",
     "output_type": "stream",
     "text": [
      "Warning: Failed to convert SMILES 'O=C1O[IH2](C#Cc2ccccc2)c2ccccc21' to SELFIES\n"
     ]
    },
    {
     "name": "stderr",
     "output_type": "stream",
     "text": []
    },
    {
     "name": "stdout",
     "output_type": "stream",
     "text": [
      "Warning: Failed to convert SMILES 'CCCC[IH2](O)OS(=O)(=O)c1ccc(C)cc1' to SELFIES\n"
     ]
    },
    {
     "name": "stderr",
     "output_type": "stream",
     "text": []
    },
    {
     "name": "stdout",
     "output_type": "stream",
     "text": [
      "Warning: Failed to convert SMILES 'CO[IH2]1NC(=O)c2ccccc21' to SELFIES\n"
     ]
    },
    {
     "name": "stderr",
     "output_type": "stream",
     "text": []
    },
    {
     "name": "stdout",
     "output_type": "stream",
     "text": [
      "Warning: Failed to convert SMILES 'NCCCCN(Cc1nccc2c3ccccc3n(CC(=O)[IH2]=O)c12)C1CCCc2cccnc21' to SELFIES\n"
     ]
    },
    {
     "name": "stderr",
     "output_type": "stream",
     "text": []
    },
    {
     "name": "stdout",
     "output_type": "stream",
     "text": [
      "Warning: Failed to convert SMILES 'COC(=O)C([IH2](OS(=O)(=O)c1ccc(C)cc1)c1ccccc1)=P(c1ccccc1)(c1ccccc1)c1ccccc1' to SELFIES\n"
     ]
    },
    {
     "name": "stderr",
     "output_type": "stream",
     "text": []
    },
    {
     "name": "stdout",
     "output_type": "stream",
     "text": [
      "Warning: Failed to convert SMILES 'CC(=O)C([IH2](OS(=O)(=O)c1ccc(C)cc1)c1ccccc1)=P(c1ccccc1)(c1ccccc1)c1ccccc1' to SELFIES\n"
     ]
    },
    {
     "name": "stderr",
     "output_type": "stream",
     "text": []
    },
    {
     "name": "stdout",
     "output_type": "stream",
     "text": [
      "Warning: Failed to convert SMILES 'CC(C)(C)OO[IH2]1OC(=O)c2ccccc21' to SELFIES\n"
     ]
    },
    {
     "name": "stderr",
     "output_type": "stream",
     "text": []
    },
    {
     "name": "stdout",
     "output_type": "stream",
     "text": [
      "Warning: Failed to convert SMILES 'O=[N+]([O-])c1ccc(I(=O)=O)cc1' to SELFIES\n"
     ]
    },
    {
     "name": "stderr",
     "output_type": "stream",
     "text": []
    },
    {
     "name": "stdout",
     "output_type": "stream",
     "text": [
      "Warning: Failed to convert SMILES 'CC(=O)O[IH2]1NC(=O)c2ccccc21' to SELFIES\n"
     ]
    },
    {
     "name": "stderr",
     "output_type": "stream",
     "text": []
    },
    {
     "name": "stdout",
     "output_type": "stream",
     "text": [
      "Warning: Failed to convert SMILES 'CC(=O)OI1(OC(C)=O)(OC(C)=O)OC(=O)c2ccccc21' to SELFIES\n"
     ]
    },
    {
     "name": "stderr",
     "output_type": "stream",
     "text": []
    },
    {
     "name": "stdout",
     "output_type": "stream",
     "text": [
      "Warning: Failed to convert SMILES 'O=C1OI(=O)(O)c2ccccc21' to SELFIES\n"
     ]
    },
    {
     "name": "stderr",
     "output_type": "stream",
     "text": []
    },
    {
     "name": "stdout",
     "output_type": "stream",
     "text": [
      "Warning: Failed to convert SMILES 'CCC(=O)N[IH2]1OC(=O)c2ccccc21' to SELFIES\n"
     ]
    },
    {
     "name": "stderr",
     "output_type": "stream",
     "text": []
    },
    {
     "name": "stdout",
     "output_type": "stream",
     "text": [
      "Warning: Failed to convert SMILES '[N-]=[N+]=N[IH2]1OC(=O)c2ccccc21' to SELFIES\n"
     ]
    },
    {
     "name": "stderr",
     "output_type": "stream",
     "text": []
    },
    {
     "name": "stdout",
     "output_type": "stream",
     "text": [
      "Warning: Failed to convert SMILES 'O=C(N[IH2]1OC(=O)c2ccccc21)c1ccc(Cl)cc1' to SELFIES\n"
     ]
    },
    {
     "name": "stderr",
     "output_type": "stream",
     "text": []
    },
    {
     "name": "stdout",
     "output_type": "stream",
     "text": [
      "Warning: Failed to convert SMILES 'O=I(=O)c1ccc(I(=O)=O)cc1' to SELFIES\n"
     ]
    },
    {
     "name": "stderr",
     "output_type": "stream",
     "text": []
    },
    {
     "name": "stdout",
     "output_type": "stream",
     "text": [
      "Warning: Failed to convert SMILES 'O=C1O[IH2](O)c2ccccc21' to SELFIES\n"
     ]
    },
    {
     "name": "stderr",
     "output_type": "stream",
     "text": []
    },
    {
     "name": "stdout",
     "output_type": "stream",
     "text": [
      "Warning: Failed to convert SMILES 'O=P1(O)Oc2ccccc2I(=O)(O)O1' to SELFIES\n"
     ]
    },
    {
     "name": "stderr",
     "output_type": "stream",
     "text": []
    },
    {
     "name": "stdout",
     "output_type": "stream",
     "text": [
      "Warning: Failed to convert SMILES 'O=C(O)c1ccc(I(=O)=O)cc1' to SELFIES\n"
     ]
    },
    {
     "name": "stderr",
     "output_type": "stream",
     "text": []
    },
    {
     "name": "stdout",
     "output_type": "stream",
     "text": [
      "Warning: Failed to convert SMILES 'O=I(=O)c1c[nH]cn1' to SELFIES\n"
     ]
    },
    {
     "name": "stderr",
     "output_type": "stream",
     "text": []
    },
    {
     "name": "stdout",
     "output_type": "stream",
     "text": [
      "Warning: Failed to convert SMILES 'O=S(=O)(O[IH2](O)CC(F)(F)F)C(F)(F)F' to SELFIES\n"
     ]
    },
    {
     "name": "stderr",
     "output_type": "stream",
     "text": []
    },
    {
     "name": "stdout",
     "output_type": "stream",
     "text": [
      "Warning: Failed to convert SMILES 'O=S(=O)(O[IH2](O[IH2](OS(=O)(=O)C(F)(F)F)c1ccccc1)c1ccccc1)C(F)(F)F' to SELFIES\n"
     ]
    },
    {
     "name": "stderr",
     "output_type": "stream",
     "text": []
    },
    {
     "name": "stdout",
     "output_type": "stream",
     "text": [
      "Warning: Failed to convert SMILES 'O=[N+]([O-])c1cccc(I(=O)=O)c1' to SELFIES\n"
     ]
    },
    {
     "name": "stderr",
     "output_type": "stream",
     "text": []
    },
    {
     "name": "stdout",
     "output_type": "stream",
     "text": [
      "Warning: Failed to convert SMILES 'CC(=O)O[IH2](OC(C)=O)c1ccccc1' to SELFIES\n"
     ]
    },
    {
     "name": "stderr",
     "output_type": "stream",
     "text": []
    },
    {
     "name": "stdout",
     "output_type": "stream",
     "text": [
      "Warning: Failed to convert SMILES 'N#C[IH2]1OC(C(F)(F)F)(C(F)(F)F)c2ccccc21' to SELFIES\n"
     ]
    },
    {
     "name": "stderr",
     "output_type": "stream",
     "text": []
    },
    {
     "name": "stdout",
     "output_type": "stream",
     "text": [
      "Warning: Failed to convert SMILES 'c1ccc2c(c1)Ic1ccccc1-2' to SELFIES\n"
     ]
    },
    {
     "name": "stderr",
     "output_type": "stream",
     "text": []
    },
    {
     "name": "stdout",
     "output_type": "stream",
     "text": [
      "Warning: Failed to convert SMILES 'O=I(=O)c1ccccc1' to SELFIES\n"
     ]
    },
    {
     "name": "stderr",
     "output_type": "stream",
     "text": []
    },
    {
     "name": "stdout",
     "output_type": "stream",
     "text": [
      "Warning: Failed to convert SMILES 'CC(C)(C)C#C[IH2]1OC(=O)c2ccccc21' to SELFIES\n"
     ]
    },
    {
     "name": "stderr",
     "output_type": "stream",
     "text": []
    },
    {
     "name": "stdout",
     "output_type": "stream",
     "text": [
      "Warning: Failed to convert SMILES 'O=C1N[IH2](C#Cc2ccccc2)c2ccccc21' to SELFIES\n"
     ]
    },
    {
     "name": "stderr",
     "output_type": "stream",
     "text": []
    },
    {
     "name": "stdout",
     "output_type": "stream",
     "text": [
      "Warning: Failed to convert SMILES 'Cc1ccc(I(=O)=O)cc1' to SELFIES\n"
     ]
    },
    {
     "name": "stderr",
     "output_type": "stream",
     "text": []
    },
    {
     "name": "stdout",
     "output_type": "stream",
     "text": [
      "Warning: Failed to convert SMILES 'O=C(O)c1cccc(I(=O)=O)c1' to SELFIES\n"
     ]
    },
    {
     "name": "stderr",
     "output_type": "stream",
     "text": []
    },
    {
     "name": "stdout",
     "output_type": "stream",
     "text": [
      "Warning: Failed to convert SMILES 'N#C[IH2]1OC(=O)c2ccccc21' to SELFIES\n"
     ]
    },
    {
     "name": "stderr",
     "output_type": "stream",
     "text": []
    },
    {
     "name": "stdout",
     "output_type": "stream",
     "text": [
      "Warning: Failed to convert SMILES '[N-]=[N+]=N[IH2]1OC(C(F)(F)F)(C(F)(F)F)c2ccccc21' to SELFIES\n"
     ]
    },
    {
     "name": "stderr",
     "output_type": "stream",
     "text": []
    },
    {
     "name": "stdout",
     "output_type": "stream",
     "text": [
      "Warning: Failed to convert SMILES 'O=[N+]([O-])c1ccc(S(=O)(=O)N=[IH2]c2ccccc2)cc1' to SELFIES\n"
     ]
    },
    {
     "name": "stderr",
     "output_type": "stream",
     "text": [
      "Converting to SELFIES: 100%|██████████| 1591378/1591378 [08:08<00:00, 3257.52it/s]\n"
     ]
    }
   ],
   "source": [
    "# create_smiles_selfies_h5()"
   ]
  },
  {
   "cell_type": "code",
   "execution_count": 4,
   "id": "705dedcc",
   "metadata": {},
   "outputs": [],
   "source": [
    "def trim_molecule_dataset_h5(input_path=\"data/molecule_dataset.h5\", output_path=\"data/molecule_dataset_trimmed.h5\"):\n",
    "    with h5py.File(input_path, 'r') as f_in:\n",
    "        smiles = f_in['SMILES'][:]\n",
    "        selfies = f_in['SELFIES'][:]\n",
    "    \n",
    "    valid_count = 0\n",
    "    for i in range(len(smiles)):\n",
    "        if smiles[i] and selfies[i]:\n",
    "            valid_count += 1\n",
    "        else:\n",
    "            break\n",
    "    \n",
    "    with h5py.File(output_path, 'w') as f_out:\n",
    "        f_out.create_dataset('SMILES', data=smiles[:valid_count])\n",
    "        f_out.create_dataset('SELFIES', data=selfies[:valid_count])\n",
    "    \n",
    "    print(f\"Trimmed from {len(smiles)} to {valid_count} elements\")\n",
    "    return valid_count"
   ]
  },
  {
   "cell_type": "code",
   "execution_count": null,
   "id": "d03e3d06",
   "metadata": {},
   "outputs": [
    {
     "name": "stdout",
     "output_type": "stream",
     "text": [
      "Trimmed from 1591378 to 1591344 elements\n"
     ]
    },
    {
     "data": {
      "text/plain": [
       "1591344"
      ]
     },
     "execution_count": 31,
     "metadata": {},
     "output_type": "execute_result"
    }
   ],
   "source": [
    "# trim down dataset from the unused ones (the ones that couldnt convert smiles)\n",
    "# trim_molecule_dataset_h5()"
   ]
  },
  {
   "cell_type": "code",
   "execution_count": null,
   "id": "d72b936a",
   "metadata": {},
   "outputs": [
    {
     "name": "stdout",
     "output_type": "stream",
     "text": [
      "File as 1591378 lines\n"
     ]
    },
    {
     "name": "stderr",
     "output_type": "stream",
     "text": [
      "Converting to SELFIES: 100%|██████████| 1591378/1591378 [05:27<00:00, 4856.49it/s]\n"
     ]
    }
   ],
   "source": [
    "# create_smiles_selfies_csv()\n",
    "# creates the temporary SMILES, SELFIES pair dataset\n",
    "# Takes ~5 mins"
   ]
  },
  {
   "cell_type": "code",
   "execution_count": null,
   "id": "0a09328e",
   "metadata": {},
   "outputs": [],
   "source": [
    "import h5py\n",
    "import numpy as np\n",
    "import torch\n",
    "from tqdm import tqdm\n",
    "\n",
    "def process_selfies_to_latents(h5_path=\"data/molecule_dataset_trimmed.h5\", vae=vae, batch_size=64, latent_dim=128, start_idx=0):\n",
    "    \"\"\"\n",
    "    Process SELFIES to latents in batches, appending results progressively to H5 file.\n",
    "    Maintains correspondence between SMILES[i] and LATENTS[i].\n",
    "    \"\"\"\n",
    "    \n",
    "    with h5py.File(h5_path, 'r+') as h5file:\n",
    "        selfies_data = h5file['SELFIES']\n",
    "        total_entries = len(selfies_data)\n",
    "        \n",
    "        # Create or get latents dataset\n",
    "        if 'LATENTS' not in h5file:\n",
    "            latents_dataset = h5file.create_dataset('LATENTS', (total_entries, latent_dim), dtype=np.float32)\n",
    "        else:\n",
    "            latents_dataset = h5file['LATENTS']\n",
    "        \n",
    "        # Process in batches\n",
    "        for i in tqdm(range(start_idx, total_entries, batch_size)):\n",
    "            batch_selfies = selfies_data[i:i+batch_size]\n",
    "            batch_selfies = [selfie.decode('utf-8') for selfie in batch_selfies]\n",
    "            \n",
    "            try:\n",
    "                # Batch processing\n",
    "                batch_latents = model.vae.selfies_to_latent(selfies=batch_selfies, vae=vae)\n",
    "                batch_latents = batch_latents.cpu().numpy()  # Shape: (batch_size, 128)\n",
    "                \n",
    "                latents_dataset[i:i+batch_size] = batch_latents\n",
    "\n",
    "            except Exception as e:\n",
    "               print(e)\n",
    "               print(f\"Failed to process batch at iteration {i}, returning\")\n",
    "               # Process each item individually\n",
    "\n",
    "               for j, selfies in enumerate(batch_selfies):\n",
    "                    idx = i + j\n",
    "                    try:\n",
    "                        z = model.vae.selfies_to_latent(selfies=selfies, vae=vae)\n",
    "                        latents_dataset[idx] = z.cpu().numpy().squeeze()  # Remove batch dim\n",
    "                    except Exception as individual_e:\n",
    "                        print(f\"Warning: Failed to process SELFIES at index {idx}: '{selfies}' - {individual_e}\")\n",
    "                        # Fill with zeros\n",
    "                        latents_dataset[idx] = np.zeros(latent_dim, dtype=np.float32)\n",
    "                    \n",
    "            h5file.flush()\n",
    "\n",
    "    print(f\"Processing complete. Total entries: {total_entries}\")\n"
   ]
  },
  {
   "cell_type": "code",
   "execution_count": 14,
   "id": "0bf8b2aa",
   "metadata": {},
   "outputs": [],
   "source": [
    "# # Deletes the latent space\n",
    "# # do not run if you dont know what youre doing\n",
    "\n",
    "# import h5py\n",
    "\n",
    "# # Clear existing latent data\n",
    "# with h5py.File(\"data/molecule_dataset_trimmed.h5\", 'r+') as h5file:\n",
    "#     if 'LATENTS' in h5file:\n",
    "#         del h5file['LATENTS']\n",
    "#         print(\"Deleted existing LATENTS dataset\")\n",
    "#     else:\n",
    "#         print(\"No LATENTS dataset found\")"
   ]
  },
  {
   "cell_type": "code",
   "execution_count": null,
   "id": "10a18124",
   "metadata": {},
   "outputs": [
    {
     "name": "stderr",
     "output_type": "stream",
     "text": [
      "  1%|          | 182/24865 [00:40<1:34:21,  4.36it/s]"
     ]
    },
    {
     "name": "stdout",
     "output_type": "stream",
     "text": [
      "'[=B-1]'\n",
      "Failed to process batch at iteration 11648, returning\n",
      "Warning: Failed to process SELFIES at index 11668: '[C][C][N+1][=B-1][Branch1][=Branch2][C][Branch1][C][C][Branch1][C][C][C][N][Branch1][=C][N][=C][Branch1][C][C][C][Branch1][C][C][Branch1][C][C][C][B-1][Branch1][=Branch2][C][Branch1][C][C][Branch1][C][C][C][=N+1][Ring2][Ring1][Ring2][C][C]' - '[=B-1]'\n"
     ]
    },
    {
     "name": "stderr",
     "output_type": "stream",
     "text": [
      "  2%|▏         | 560/24865 [02:07<1:37:56,  4.14it/s]"
     ]
    },
    {
     "name": "stdout",
     "output_type": "stream",
     "text": [
      "'[#S]'\n",
      "Failed to process batch at iteration 35840, returning\n",
      "Warning: Failed to process SELFIES at index 35859: '[N][#C][C][Branch1][Ring2][C][#S][N][=C][C][C][C][C][C][Ring1][=Branch1]' - '[#S]'\n"
     ]
    },
    {
     "name": "stderr",
     "output_type": "stream",
     "text": [
      "  3%|▎         | 849/24865 [03:10<1:21:00,  4.94it/s]"
     ]
    },
    {
     "name": "stdout",
     "output_type": "stream",
     "text": [
      "'[OH1+1]'\n",
      "Failed to process batch at iteration 54336, returning\n",
      "Warning: Failed to process SELFIES at index 54353: '[O][=C][Branch1][C][O][C][=C][C][=C][C][=Branch1][Ring2][=C][Ring1][=Branch1][C][=Branch1][N][=N][N][C][=C][C][=C][C][=C][Ring1][=Branch1][F][C][Branch1][C][O-1][OH1+1][Ring1][S]' - '[OH1+1]'\n"
     ]
    },
    {
     "name": "stderr",
     "output_type": "stream",
     "text": [
      " 10%|▉         | 2459/24865 [08:51<1:17:00,  4.85it/s]"
     ]
    },
    {
     "name": "stdout",
     "output_type": "stream",
     "text": [
      "'[SH1+1]'\n",
      "Failed to process batch at iteration 157376, returning\n",
      "Warning: Failed to process SELFIES at index 157401: '[C][C][=C][C][C][Branch1][C][C][C][Branch1][C][C][C][Branch1][Ring1][SH1+1][O-1][S+1][Ring1][=Branch2][O-1]' - '[SH1+1]'\n"
     ]
    },
    {
     "name": "stderr",
     "output_type": "stream",
     "text": [
      " 10%|█         | 2504/24865 [09:01<1:15:59,  4.90it/s]"
     ]
    },
    {
     "name": "stdout",
     "output_type": "stream",
     "text": [
      "'[=B-1]'\n",
      "Failed to process batch at iteration 160256, returning\n",
      "Warning: Failed to process SELFIES at index 160313: '[C][C][N+1][=B-1][Branch1][=Branch2][C][Branch1][C][C][Branch1][C][C][C][N][Branch1][O][N][=C][C][Branch1][C][C][Branch1][C][C][C][B-1][Branch1][=Branch2][C][Branch1][C][C][Branch1][C][C][C][=N+1][Ring2][Ring1][Ring1][C][C]' - '[=B-1]'\n"
     ]
    },
    {
     "name": "stderr",
     "output_type": "stream",
     "text": [
      " 19%|█▊        | 4635/24865 [16:41<1:11:18,  4.73it/s]"
     ]
    },
    {
     "name": "stdout",
     "output_type": "stream",
     "text": [
      "'[I-1]'\n",
      "Failed to process batch at iteration 296640, returning\n",
      "Warning: Failed to process SELFIES at index 296683: '[I-1]' - '[I-1]'\n"
     ]
    },
    {
     "name": "stderr",
     "output_type": "stream",
     "text": [
      " 19%|█▉        | 4692/24865 [16:53<1:11:00,  4.73it/s]"
     ]
    },
    {
     "name": "stdout",
     "output_type": "stream",
     "text": [
      "'[SH1-1]'\n",
      "Failed to process batch at iteration 300288, returning\n",
      "Warning: Failed to process SELFIES at index 300323: '[O][N][=N][C][=C][C][=C][Branch1][S][SH1-1][C][=C][C][=C][C][=C][C][=C][C][Ring1][=Branch1][=C][Ring1][#Branch2][C][=N][Ring1][P]' - '[SH1-1]'\n"
     ]
    },
    {
     "name": "stderr",
     "output_type": "stream",
     "text": [
      " 29%|██▉       | 7180/24865 [26:01<1:09:12,  4.26it/s]"
     ]
    },
    {
     "name": "stdout",
     "output_type": "stream",
     "text": [
      "'[P-1]'\n",
      "Failed to process batch at iteration 459520, returning\n",
      "Warning: Failed to process SELFIES at index 459560: '[F][P-1][Branch1][C][F][Branch1][C][F][Branch1][C][F][Branch1][C][F][F]' - '[P-1]'\n"
     ]
    },
    {
     "name": "stderr",
     "output_type": "stream",
     "text": [
      " 80%|████████  | 19997/24865 [1:13:07<17:39,  4.59it/s]"
     ]
    },
    {
     "name": "stdout",
     "output_type": "stream",
     "text": [
      "'[P-1]'\n",
      "Failed to process batch at iteration 1279808, returning\n",
      "Warning: Failed to process SELFIES at index 1279836: '[F][C][Branch1][C][F][Branch1][C][F][C][Branch1][C][F][Branch1][C][F][P-1][Branch1][C][F][Branch1][C][F][Branch1][C][F][Branch1][S][C][Branch1][C][F][Branch1][C][F][C][Branch1][C][F][Branch1][C][F][F][C][Branch1][C][F][Branch1][C][F][C][Branch1][C][F][Branch1][C][F][F]' - '[P-1]'\n"
     ]
    },
    {
     "name": "stderr",
     "output_type": "stream",
     "text": [
      "100%|██████████| 24865/24865 [1:29:48<00:00,  4.61it/s]"
     ]
    },
    {
     "name": "stdout",
     "output_type": "stream",
     "text": [
      "Processing complete. Total entries: 1591344\n"
     ]
    },
    {
     "name": "stderr",
     "output_type": "stream",
     "text": [
      "\n"
     ]
    }
   ],
   "source": [
    "# process_selfies_to_latents()\n"
   ]
  },
  {
   "cell_type": "code",
   "execution_count": 16,
   "id": "9214c1d4",
   "metadata": {},
   "outputs": [
    {
     "name": "stdout",
     "output_type": "stream",
     "text": [
      "tensor([ 0.3796, -0.9044,  1.8945, -0.1288, -1.2595,  0.0097, -1.0654, -1.6163,\n",
      "         0.7942,  0.0129, -0.1719, -1.1431,  0.6380, -1.1993, -1.0211, -0.5772,\n",
      "         1.0090, -1.0820,  0.1975, -0.0310, -0.8889, -0.1467, -0.0071, -1.5427,\n",
      "        -0.7854,  1.7676, -0.2289,  0.3882,  0.8806,  1.6932, -0.3385, -0.7470,\n",
      "        -0.5508,  0.8731,  0.2137, -1.2020,  0.3163, -0.5795, -1.3604, -0.0808,\n",
      "        -0.5355, -0.9419,  0.4012,  0.5543, -0.3302, -0.2996,  0.5294,  1.3599,\n",
      "         0.0743, -0.3357,  1.0022, -0.4410,  0.2335, -1.4399,  0.2666,  0.2583,\n",
      "         0.2118,  0.7277,  0.2814, -1.0767,  0.6510,  1.7454, -0.8206, -0.1665,\n",
      "         0.4468, -0.5544, -2.0429,  1.5746, -0.6971, -0.6785, -0.0144, -0.7728,\n",
      "        -0.8303,  0.5410,  0.4846, -1.2930,  0.4898, -0.2031,  0.0745,  0.4338,\n",
      "        -0.6157,  0.1917,  0.5609, -0.2212,  0.3326,  1.6207, -0.0972,  1.0891,\n",
      "         0.9262, -0.5864,  0.9220,  0.3795,  2.2645, -0.3452, -1.5416,  0.4260,\n",
      "        -0.1082,  1.0440,  1.5560, -0.8965,  0.7069,  2.0678, -1.3070, -0.1619,\n",
      "        -0.1469, -1.7218,  1.6063,  1.8067,  1.7347, -2.5550, -1.4896,  1.6601,\n",
      "        -1.0998,  0.1597,  0.9930, -0.5666,  1.2479,  0.4056, -1.0950, -0.4909,\n",
      "         0.6314,  0.6255,  1.5753, -0.1454, -0.2222, -1.5041,  0.3125,  0.2120],\n",
      "       device='cuda:0')\n",
      "['[C][C][N][Branch2][Branch1][=N][C][=C][C][=C][C][=Branch1][Ring2][=C][Ring1][=Branch1][O][C][C][Branch1][=N][C][=C][C][=C][Branch1][Ring1][O][C][C][=C][Ring1][Branch2][=C][Branch1][=Branch1][C][=Branch1][C][=O][O][C][=Branch1][C][=O][N][Branch1][N][C][C][=C][C][=C][C][=C][Ring1][=Branch1][O][C][C][O][Ring2][Ring1][P][Ring2][Ring1][=Branch2][N][Branch1][C][C][C][=Ring2][Ring1][P][O]']\n",
      "b'[C][C][N][Branch2][Branch1][=N][C][=C][C][=C][C][=Branch1][Ring2][=C][Ring1][=Branch1][O][C][C][Branch1][=N][C][=C][C][=C][Branch1][Ring1][O][C][C][=C][Ring1][Branch2][=C][Branch1][=Branch1][C][=Branch1][C][=O][O][C][=Branch1][C][=O][N][Branch1][N][C][C][=C][C][=C][C][=C][Ring1][=Branch1][O][C][C][=Ring2][Ring1][O][Ring2][Ring1][#C][S][Branch1][C][C][=Branch1][C][=O][=O]'\n"
     ]
    }
   ],
   "source": [
    "with h5py.File(\"data/molecule_dataset_trimmed.h5\", \"r\") as f:\n",
    "    idx = 11669\n",
    "    z = torch.tensor(f['LATENTS'][idx], device='cuda')\n",
    "    print(z)\n",
    "    print(model.vae.latent_to_selfies(z, vae=vae))\n",
    "    print(f['SELFIES'][idx])"
   ]
  },
  {
   "cell_type": "code",
   "execution_count": null,
   "id": "f204d892",
   "metadata": {},
   "outputs": [
    {
     "name": "stdout",
     "output_type": "stream",
     "text": [
      "Len Smiles: 1591344\n",
      "Len Selfies: 1591344\n",
      "Len Latents: 1591344\n"
     ]
    },
    {
     "name": "stderr",
     "output_type": "stream",
     "text": [
      "  1%|          | 14256/1591344 [00:01<02:00, 13060.17it/s]"
     ]
    },
    {
     "name": "stdout",
     "output_type": "stream",
     "text": [
      "Skipping i: 11668 with b'CC[n+]1[b-](C(C)(C)C)n(N=C(C)C(C)(C)C)[b-](C(C)(C)C)[n+]1CC' and latent [0. 0. 0. 0. 0. 0. 0. 0. 0. 0. 0. 0. 0. 0. 0. 0. 0. 0. 0. 0. 0. 0. 0. 0.\n",
      " 0. 0. 0. 0. 0. 0. 0. 0. 0. 0. 0. 0. 0. 0. 0. 0. 0. 0. 0. 0. 0. 0. 0. 0.\n",
      " 0. 0. 0. 0. 0. 0. 0. 0. 0. 0. 0. 0. 0. 0. 0. 0. 0. 0. 0. 0. 0. 0. 0. 0.\n",
      " 0. 0. 0. 0. 0. 0. 0. 0. 0. 0. 0. 0. 0. 0. 0. 0. 0. 0. 0. 0. 0. 0. 0. 0.\n",
      " 0. 0. 0. 0. 0. 0. 0. 0. 0. 0. 0. 0. 0. 0. 0. 0. 0. 0. 0. 0. 0. 0. 0. 0.\n",
      " 0. 0. 0. 0. 0. 0. 0. 0.]\n"
     ]
    },
    {
     "name": "stderr",
     "output_type": "stream",
     "text": [
      "  2%|▏         | 37679/1591344 [00:02<02:07, 12166.22it/s]"
     ]
    },
    {
     "name": "stdout",
     "output_type": "stream",
     "text": [
      "Skipping i: 35859 with b'N#CC(C#SN)=C1CCCCC1' and latent [0. 0. 0. 0. 0. 0. 0. 0. 0. 0. 0. 0. 0. 0. 0. 0. 0. 0. 0. 0. 0. 0. 0. 0.\n",
      " 0. 0. 0. 0. 0. 0. 0. 0. 0. 0. 0. 0. 0. 0. 0. 0. 0. 0. 0. 0. 0. 0. 0. 0.\n",
      " 0. 0. 0. 0. 0. 0. 0. 0. 0. 0. 0. 0. 0. 0. 0. 0. 0. 0. 0. 0. 0. 0. 0. 0.\n",
      " 0. 0. 0. 0. 0. 0. 0. 0. 0. 0. 0. 0. 0. 0. 0. 0. 0. 0. 0. 0. 0. 0. 0. 0.\n",
      " 0. 0. 0. 0. 0. 0. 0. 0. 0. 0. 0. 0. 0. 0. 0. 0. 0. 0. 0. 0. 0. 0. 0. 0.\n",
      " 0. 0. 0. 0. 0. 0. 0. 0.]\n"
     ]
    },
    {
     "name": "stderr",
     "output_type": "stream",
     "text": [
      "  4%|▎         | 56650/1591344 [00:04<02:01, 12633.63it/s]"
     ]
    },
    {
     "name": "stdout",
     "output_type": "stream",
     "text": [
      "Skipping i: 54353 with b'O=C(O)c1ccc2c(c1)C(=NNc1ccccc1F)C([O-])[OH+]2' and latent [0. 0. 0. 0. 0. 0. 0. 0. 0. 0. 0. 0. 0. 0. 0. 0. 0. 0. 0. 0. 0. 0. 0. 0.\n",
      " 0. 0. 0. 0. 0. 0. 0. 0. 0. 0. 0. 0. 0. 0. 0. 0. 0. 0. 0. 0. 0. 0. 0. 0.\n",
      " 0. 0. 0. 0. 0. 0. 0. 0. 0. 0. 0. 0. 0. 0. 0. 0. 0. 0. 0. 0. 0. 0. 0. 0.\n",
      " 0. 0. 0. 0. 0. 0. 0. 0. 0. 0. 0. 0. 0. 0. 0. 0. 0. 0. 0. 0. 0. 0. 0. 0.\n",
      " 0. 0. 0. 0. 0. 0. 0. 0. 0. 0. 0. 0. 0. 0. 0. 0. 0. 0. 0. 0. 0. 0. 0. 0.\n",
      " 0. 0. 0. 0. 0. 0. 0. 0.]\n"
     ]
    },
    {
     "name": "stderr",
     "output_type": "stream",
     "text": [
      " 10%|▉         | 158868/1591344 [00:12<01:59, 12009.74it/s]"
     ]
    },
    {
     "name": "stdout",
     "output_type": "stream",
     "text": [
      "Skipping i: 157401 with b'CC=CC1C(C)C(C)C([SH+][O-])[S+]1[O-]' and latent [0. 0. 0. 0. 0. 0. 0. 0. 0. 0. 0. 0. 0. 0. 0. 0. 0. 0. 0. 0. 0. 0. 0. 0.\n",
      " 0. 0. 0. 0. 0. 0. 0. 0. 0. 0. 0. 0. 0. 0. 0. 0. 0. 0. 0. 0. 0. 0. 0. 0.\n",
      " 0. 0. 0. 0. 0. 0. 0. 0. 0. 0. 0. 0. 0. 0. 0. 0. 0. 0. 0. 0. 0. 0. 0. 0.\n",
      " 0. 0. 0. 0. 0. 0. 0. 0. 0. 0. 0. 0. 0. 0. 0. 0. 0. 0. 0. 0. 0. 0. 0. 0.\n",
      " 0. 0. 0. 0. 0. 0. 0. 0. 0. 0. 0. 0. 0. 0. 0. 0. 0. 0. 0. 0. 0. 0. 0. 0.\n",
      " 0. 0. 0. 0. 0. 0. 0. 0.]\n"
     ]
    },
    {
     "name": "stderr",
     "output_type": "stream",
     "text": [
      " 10%|█         | 162471/1591344 [00:13<01:59, 11913.84it/s]"
     ]
    },
    {
     "name": "stdout",
     "output_type": "stream",
     "text": [
      "Skipping i: 160313 with b'CC[n+]1[b-](C(C)(C)C)n(N=CC(C)(C)C)[b-](C(C)(C)C)[n+]1CC' and latent [0. 0. 0. 0. 0. 0. 0. 0. 0. 0. 0. 0. 0. 0. 0. 0. 0. 0. 0. 0. 0. 0. 0. 0.\n",
      " 0. 0. 0. 0. 0. 0. 0. 0. 0. 0. 0. 0. 0. 0. 0. 0. 0. 0. 0. 0. 0. 0. 0. 0.\n",
      " 0. 0. 0. 0. 0. 0. 0. 0. 0. 0. 0. 0. 0. 0. 0. 0. 0. 0. 0. 0. 0. 0. 0. 0.\n",
      " 0. 0. 0. 0. 0. 0. 0. 0. 0. 0. 0. 0. 0. 0. 0. 0. 0. 0. 0. 0. 0. 0. 0. 0.\n",
      " 0. 0. 0. 0. 0. 0. 0. 0. 0. 0. 0. 0. 0. 0. 0. 0. 0. 0. 0. 0. 0. 0. 0. 0.\n",
      " 0. 0. 0. 0. 0. 0. 0. 0.]\n"
     ]
    },
    {
     "name": "stderr",
     "output_type": "stream",
     "text": [
      " 19%|█▊        | 298287/1591344 [00:24<01:45, 12296.34it/s]"
     ]
    },
    {
     "name": "stdout",
     "output_type": "stream",
     "text": [
      "Skipping i: 296683 with b'[I-]' and latent [0. 0. 0. 0. 0. 0. 0. 0. 0. 0. 0. 0. 0. 0. 0. 0. 0. 0. 0. 0. 0. 0. 0. 0.\n",
      " 0. 0. 0. 0. 0. 0. 0. 0. 0. 0. 0. 0. 0. 0. 0. 0. 0. 0. 0. 0. 0. 0. 0. 0.\n",
      " 0. 0. 0. 0. 0. 0. 0. 0. 0. 0. 0. 0. 0. 0. 0. 0. 0. 0. 0. 0. 0. 0. 0. 0.\n",
      " 0. 0. 0. 0. 0. 0. 0. 0. 0. 0. 0. 0. 0. 0. 0. 0. 0. 0. 0. 0. 0. 0. 0. 0.\n",
      " 0. 0. 0. 0. 0. 0. 0. 0. 0. 0. 0. 0. 0. 0. 0. 0. 0. 0. 0. 0. 0. 0. 0. 0.\n",
      " 0. 0. 0. 0. 0. 0. 0. 0.]\n"
     ]
    },
    {
     "name": "stderr",
     "output_type": "stream",
     "text": [
      " 19%|█▉        | 301995/1591344 [00:24<01:44, 12302.82it/s]"
     ]
    },
    {
     "name": "stdout",
     "output_type": "stream",
     "text": [
      "Skipping i: 300323 with b'ON=Nc1ccc([SH-]c2ccc3ccccc3c2)cn1' and latent [0. 0. 0. 0. 0. 0. 0. 0. 0. 0. 0. 0. 0. 0. 0. 0. 0. 0. 0. 0. 0. 0. 0. 0.\n",
      " 0. 0. 0. 0. 0. 0. 0. 0. 0. 0. 0. 0. 0. 0. 0. 0. 0. 0. 0. 0. 0. 0. 0. 0.\n",
      " 0. 0. 0. 0. 0. 0. 0. 0. 0. 0. 0. 0. 0. 0. 0. 0. 0. 0. 0. 0. 0. 0. 0. 0.\n",
      " 0. 0. 0. 0. 0. 0. 0. 0. 0. 0. 0. 0. 0. 0. 0. 0. 0. 0. 0. 0. 0. 0. 0. 0.\n",
      " 0. 0. 0. 0. 0. 0. 0. 0. 0. 0. 0. 0. 0. 0. 0. 0. 0. 0. 0. 0. 0. 0. 0. 0.\n",
      " 0. 0. 0. 0. 0. 0. 0. 0.]\n"
     ]
    },
    {
     "name": "stderr",
     "output_type": "stream",
     "text": [
      " 29%|██▉       | 461934/1591344 [00:37<01:30, 12533.78it/s]"
     ]
    },
    {
     "name": "stdout",
     "output_type": "stream",
     "text": [
      "Skipping i: 459560 with b'F[P-](F)(F)(F)(F)F' and latent [0. 0. 0. 0. 0. 0. 0. 0. 0. 0. 0. 0. 0. 0. 0. 0. 0. 0. 0. 0. 0. 0. 0. 0.\n",
      " 0. 0. 0. 0. 0. 0. 0. 0. 0. 0. 0. 0. 0. 0. 0. 0. 0. 0. 0. 0. 0. 0. 0. 0.\n",
      " 0. 0. 0. 0. 0. 0. 0. 0. 0. 0. 0. 0. 0. 0. 0. 0. 0. 0. 0. 0. 0. 0. 0. 0.\n",
      " 0. 0. 0. 0. 0. 0. 0. 0. 0. 0. 0. 0. 0. 0. 0. 0. 0. 0. 0. 0. 0. 0. 0. 0.\n",
      " 0. 0. 0. 0. 0. 0. 0. 0. 0. 0. 0. 0. 0. 0. 0. 0. 0. 0. 0. 0. 0. 0. 0. 0.\n",
      " 0. 0. 0. 0. 0. 0. 0. 0.]\n"
     ]
    },
    {
     "name": "stderr",
     "output_type": "stream",
     "text": [
      " 81%|████████  | 1281715/1591344 [01:44<00:24, 12815.02it/s]"
     ]
    },
    {
     "name": "stdout",
     "output_type": "stream",
     "text": [
      "Skipping i: 1279836 with b'FC(F)(F)C(F)(F)[P-](F)(F)(F)(C(F)(F)C(F)(F)F)C(F)(F)C(F)(F)F' and latent [0. 0. 0. 0. 0. 0. 0. 0. 0. 0. 0. 0. 0. 0. 0. 0. 0. 0. 0. 0. 0. 0. 0. 0.\n",
      " 0. 0. 0. 0. 0. 0. 0. 0. 0. 0. 0. 0. 0. 0. 0. 0. 0. 0. 0. 0. 0. 0. 0. 0.\n",
      " 0. 0. 0. 0. 0. 0. 0. 0. 0. 0. 0. 0. 0. 0. 0. 0. 0. 0. 0. 0. 0. 0. 0. 0.\n",
      " 0. 0. 0. 0. 0. 0. 0. 0. 0. 0. 0. 0. 0. 0. 0. 0. 0. 0. 0. 0. 0. 0. 0. 0.\n",
      " 0. 0. 0. 0. 0. 0. 0. 0. 0. 0. 0. 0. 0. 0. 0. 0. 0. 0. 0. 0. 0. 0. 0. 0.\n",
      " 0. 0. 0. 0. 0. 0. 0. 0.]\n"
     ]
    },
    {
     "name": "stderr",
     "output_type": "stream",
     "text": [
      "100%|██████████| 1591344/1591344 [02:08<00:00, 12359.52it/s]\n"
     ]
    }
   ],
   "source": [
    "def trim_molecule_dataset_final(input_path=\"data/molecule_dataset.h5\", output_path=\"data/molecule_dataset_trimmed.h5\"):\n",
    "    with h5py.File(input_path, 'r') as f_in:\n",
    "        smiles = f_in['SMILES'][:]\n",
    "        selfies = f_in['SELFIES'][:]\n",
    "        latents = f_in['LATENTS'][:]\n",
    "\n",
    "        print(f\"Len Smiles: {len(smiles)}\")\n",
    "        print(f\"Len Selfies: {len(selfies)}\")\n",
    "        print(f\"Len Latents: {len(latents)}\")\n",
    "\n",
    "        assert len(smiles) == len(selfies) == len(latents)\n",
    "        dataset_len = len(smiles)\n",
    "\n",
    "        invalid_latents = 0\n",
    "        for latent in latents:\n",
    "            if np.all(latent == 0.0):\n",
    "                invalid_latents += 1\n",
    "        \n",
    "        total_lines = dataset_len - invalid_latents\n",
    "        latent_dim = 128\n",
    "\n",
    "        with h5py.File(output_path, 'w') as f_out:\n",
    "            smiles_dataset = f_out.create_dataset('SMILES', (total_lines,), dtype=h5py.string_dtype())\n",
    "            selfies_dataset = f_out.create_dataset('SELFIES', (total_lines,), dtype=h5py.string_dtype())\n",
    "            latents_dataset = f_out.create_dataset('LATENTS', (total_lines, latent_dim), dtype=np.float32)\n",
    "\n",
    "            idx = 0\n",
    "            for i in tqdm(range(dataset_len)):\n",
    "                smile = smiles[i]\n",
    "                selfie = selfies[i]\n",
    "                latent = latents[i]\n",
    "\n",
    "                if np.all(latent == 0.0):\n",
    "                    print(f\"Skipping i: {i} with {smile} and latent {latent}\")\n",
    "                    continue\n",
    "\n",
    "                smiles_dataset[idx] = smile\n",
    "                selfies_dataset[idx] = selfie\n",
    "                latents_dataset[idx] = latent\n",
    "                idx += 1\n",
    "                    \n",
    "\n",
    "        \n",
    "    # print(f\"Trimmed from {len(smiles)} to {valid_count} elements\")\n",
    "    # return valid_count\n",
    "# trim_molecule_dataset_final()"
   ]
  }
 ],
 "metadata": {
  "kernelspec": {
   "display_name": "pytorch-cuda",
   "language": "python",
   "name": "python3"
  },
  "language_info": {
   "codemirror_mode": {
    "name": "ipython",
    "version": 3
   },
   "file_extension": ".py",
   "mimetype": "text/x-python",
   "name": "python",
   "nbconvert_exporter": "python",
   "pygments_lexer": "ipython3",
   "version": "3.10.18"
  }
 },
 "nbformat": 4,
 "nbformat_minor": 5
}
