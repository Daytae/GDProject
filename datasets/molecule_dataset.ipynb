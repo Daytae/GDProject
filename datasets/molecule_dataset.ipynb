{
 "cells": [
  {
   "cell_type": "markdown",
   "id": "35713714",
   "metadata": {},
   "source": [
    "Exploratory notebook for the molecule dataset"
   ]
  },
  {
   "cell_type": "code",
   "execution_count": 1,
   "id": "f7623955",
   "metadata": {},
   "outputs": [],
   "source": [
    "from torch.utils.data import Dataset, DataLoader\n",
    "import h5py\n",
    "\n",
    "import model.vae\n",
    "from datasets import MoleculeDataset, LatentDataset\n",
    "import torch"
   ]
  },
  {
   "cell_type": "code",
   "execution_count": 2,
   "id": "c9cfeef3",
   "metadata": {},
   "outputs": [
    {
     "name": "stderr",
     "output_type": "stream",
     "text": [
      "/home/alden/Research/GDProject/model/vae/util.py:63: FutureWarning: You are using `torch.load` with `weights_only=False` (the current default value), which uses the default pickle module implicitly. It is possible to construct malicious pickle data which will execute arbitrary code during unpickling (See https://github.com/pytorch/pytorch/blob/main/SECURITY.md#untrusted-models for more details). In a future release, the default value for `weights_only` will be flipped to `True`. This limits the functions that could be executed during unpickling. Arbitrary objects will no longer be allowed to be loaded via this mode unless they are explicitly allowlisted by the user via `torch.serialization.add_safe_globals`. We recommend you start setting `weights_only=True` for any use case where you don't have full control of the loaded file. Please open an issue on GitHub for any issues related to this experimental feature.\n",
      "  state_dict = torch.load(path_to_vae_statedict, map_location=device)[\"state_dict\"]\n"
     ]
    },
    {
     "name": "stdout",
     "output_type": "stream",
     "text": [
      "loading model from saved_models/selfies_vae/selfies-vae.ckpt\n",
      "Enc params: 1,994,592\n",
      "Dec params: 277,346\n"
     ]
    }
   ],
   "source": [
    "vae = model.vae.load_vae_selfies()"
   ]
  },
  {
   "cell_type": "code",
   "execution_count": 5,
   "id": "578892c9",
   "metadata": {},
   "outputs": [],
   "source": [
    "mol_ds = MoleculeDataset(file_loc=\"data/molecule_dataset.h5\")\n",
    "latent_ds = MoleculeDataset(file_loc=\"data/molecule_dataset.h5\")"
   ]
  }
 ],
 "metadata": {
  "kernelspec": {
   "display_name": "pytorch-cuda",
   "language": "python",
   "name": "python3"
  },
  "language_info": {
   "codemirror_mode": {
    "name": "ipython",
    "version": 3
   },
   "file_extension": ".py",
   "mimetype": "text/x-python",
   "name": "python",
   "nbconvert_exporter": "python",
   "pygments_lexer": "ipython3",
   "version": "3.10.18"
  }
 },
 "nbformat": 4,
 "nbformat_minor": 5
}
