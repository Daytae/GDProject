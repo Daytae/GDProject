{
 "cells": [
  {
   "cell_type": "markdown",
   "id": "a71a266c",
   "metadata": {},
   "source": [
    "Testing if the Diffusion Model Works:\n"
   ]
  },
  {
   "cell_type": "code",
   "execution_count": 1,
   "id": "7fd6f6a7",
   "metadata": {},
   "outputs": [
    {
     "name": "stdout",
     "output_type": "stream",
     "text": [
      "New Current Directory is /home/alden/Research/GDProject\n"
     ]
    }
   ],
   "source": [
    "# Changes working directory to root to allow imports to work\n",
    "\n",
    "import os\n",
    "\n",
    "def change_directory_to_root(root_name: str = \"GDProject\"):\n",
    "    \"\"\"Changes the directory to the root of the project\"\"\"\n",
    "    current_folder = os.getcwd().split('/')[-1]\n",
    "    if current_folder != root_name:\n",
    "        os.chdir('..')\n",
    "\n",
    "    print(f\"New Current Directory is {os.getcwd()}\")\n",
    "\n",
    "change_directory_to_root()"
   ]
  },
  {
   "cell_type": "code",
   "execution_count": 2,
   "id": "2a71acb2",
   "metadata": {},
   "outputs": [
    {
     "name": "stdout",
     "output_type": "stream",
     "text": [
      "Device: cuda\n"
     ]
    }
   ],
   "source": [
    "# Supress pytorch pickle load warnings\n",
    "import warnings\n",
    "warnings.simplefilter(action='ignore', category=FutureWarning)\n",
    "\n",
    "# Torch\n",
    "import torch\n",
    "import torch.nn as nn\n",
    "import torch.nn.functional as F\n",
    "from torch.distributions import Normal\n",
    "import torch.optim as optim\n",
    "from torch.utils.data import TensorDataset, DataLoader\n",
    "\n",
    "# Logging\n",
    "from tqdm import tqdm\n",
    "import matplotlib.pyplot as plt\n",
    "import pickle\n",
    "\n",
    "# Library imports\n",
    "import gdiffusion as gd\n",
    "import util\n",
    "import util.chem as chem\n",
    "import util.visualization as vis\n",
    "import util.stats as gdstats\n",
    "\n",
    "from gdiffusion.classifier.logp_predictor import LogPPredictor\n",
    "from gdiffusion.classifier.extinct_predictor import EsmClassificationHead\n",
    "# Paths for all of the models:\n",
    "from util.model_paths import *\n",
    "\n",
    "device = util.get_device(print_device=True)"
   ]
  },
  {
   "cell_type": "code",
   "execution_count": 12,
   "id": "aace9354",
   "metadata": {},
   "outputs": [
    {
     "name": "stdout",
     "output_type": "stream",
     "text": [
      "[Molecule Diffusion]: UNet Successfully loaded\n",
      "- Total parameters: 225,056,257\n",
      "- Trainable parameters: 225,056,257\n",
      "- Model size: 858.5 MB\n"
     ]
    }
   ],
   "source": [
    "# Load Diffusion\n",
    "peptide_diffusion_model = gd.PeptideDiffusionModel(unet_state_dict_path=PEPTIDE_DIFFUSION_MODEL_PATH)\n",
    "diffusion = gd.DDIMSampler(diffusion_model=peptide_diffusion_model, sampling_timesteps=100)"
   ]
  },
  {
   "cell_type": "code",
   "execution_count": 13,
   "id": "5f84fe4a",
   "metadata": {},
   "outputs": [
    {
     "name": "stdout",
     "output_type": "stream",
     "text": [
      "\n",
      " Loading Peptide VAE:\n",
      "------------------------------------------------\n",
      "Loaded VAE Vocab from saved_models/peptide_vae/vocab.json\n",
      "Getting State Dict...\n",
      "Loading model from saved_models/peptide_vae/peptide-vae.ckpt\n",
      "Enc params: 2,675,904\n",
      "Dec params: 360,349\n",
      "------------------------------------------------\n",
      "\n"
     ]
    }
   ],
   "source": [
    "# Load VAE and classifier\n",
    "vae = gd.PeptideVAE()\n",
    "classifier : EsmClassificationHead = torch.load(EXTINCT_CLASSIFIER_PATH, weights_only=False).to(device)"
   ]
  },
  {
   "cell_type": "code",
   "execution_count": 14,
   "id": "272363ce",
   "metadata": {},
   "outputs": [],
   "source": [
    "# Load models and helper functions\n",
    "\n",
    "\n",
    "def eval_probs(z):\n",
    "    probs = classifier.classify(z)\n",
    "    print(f\"Diffusion Probs: {probs}\")\n",
    "    argmax = torch.argmax(probs, dim=1)\n",
    "    print(f\"Percent Extinct: {argmax.sum() / len(argmax)}\")\n",
    "\n",
    "def sample_random(batch_size):\n",
    "    return torch.randn(size=(batch_size, 256), device=device)\n",
    "\n",
    "cond_fn_extinct = gd.get_cond_fn(\n",
    "    log_prob_fn=classifier.log_prob_fn_extinct,\n",
    "    clip_grad=False,\n",
    "    latent_dim=256,\n",
    ")"
   ]
  },
  {
   "cell_type": "code",
   "execution_count": 39,
   "id": "636fd9ab",
   "metadata": {},
   "outputs": [
    {
     "name": "stderr",
     "output_type": "stream",
     "text": [
      "DDIM Sampling Loop Time Step: 100%|██████████| 100/100 [00:04<00:00, 24.61it/s]"
     ]
    },
    {
     "name": "stdout",
     "output_type": "stream",
     "text": [
      "Diffusion Probs: tensor([[2.6474e-12, 1.0000e+00],\n",
      "        [2.1940e-26, 1.0000e+00],\n",
      "        [1.6263e-40, 1.0000e+00],\n",
      "        [9.3578e-23, 1.0000e+00],\n",
      "        [1.9555e-14, 1.0000e+00],\n",
      "        [1.0000e+00, 0.0000e+00],\n",
      "        [7.1258e-13, 1.0000e+00],\n",
      "        [1.0000e+00, 0.0000e+00],\n",
      "        [2.6347e-41, 1.0000e+00],\n",
      "        [1.8379e-14, 1.0000e+00],\n",
      "        [1.4375e-13, 1.0000e+00],\n",
      "        [2.5544e-15, 1.0000e+00],\n",
      "        [6.5575e-16, 1.0000e+00],\n",
      "        [9.1375e-14, 1.0000e+00],\n",
      "        [9.1540e-17, 1.0000e+00],\n",
      "        [9.1808e-35, 1.0000e+00]], device='cuda:0', grad_fn=<SoftmaxBackward0>)\n",
      "Percent Extinct: 0.875\n"
     ]
    },
    {
     "name": "stderr",
     "output_type": "stream",
     "text": [
      "\n"
     ]
    }
   ],
   "source": [
    "z_ddim = diffusion.sample(batch_size=16, guidance_scale=16.0, cond_fn=cond_fn_extinct)\n",
    "eval_probs(z_ddim)\n"
   ]
  },
  {
   "cell_type": "code",
   "execution_count": 40,
   "id": "3bcb804c",
   "metadata": {},
   "outputs": [
    {
     "name": "stderr",
     "output_type": "stream",
     "text": [
      "DDIM Sampling Loop Time Step: 100%|██████████| 100/100 [00:04<00:00, 24.77it/s]"
     ]
    },
    {
     "name": "stdout",
     "output_type": "stream",
     "text": [
      "Diffusion Probs: tensor([[0.9961, 0.0039],\n",
      "        [0.9706, 0.0294],\n",
      "        [0.1963, 0.8037],\n",
      "        [0.4406, 0.5594],\n",
      "        [0.4786, 0.5214],\n",
      "        [0.9468, 0.0532],\n",
      "        [0.3373, 0.6627],\n",
      "        [0.6366, 0.3634],\n",
      "        [0.7163, 0.2837],\n",
      "        [0.9550, 0.0450],\n",
      "        [0.9447, 0.0553],\n",
      "        [0.8912, 0.1088],\n",
      "        [0.8357, 0.1643],\n",
      "        [0.9235, 0.0765],\n",
      "        [0.9980, 0.0020],\n",
      "        [0.9448, 0.0552]], device='cuda:0', grad_fn=<SoftmaxBackward0>)\n",
      "Percent Extinct: 0.25\n"
     ]
    },
    {
     "name": "stderr",
     "output_type": "stream",
     "text": [
      "\n"
     ]
    }
   ],
   "source": [
    "z_ddim = diffusion.sample(batch_size=16)\n",
    "eval_probs(z_ddim)\n"
   ]
  }
 ],
 "metadata": {
  "kernelspec": {
   "display_name": "pytorch-cuda",
   "language": "python",
   "name": "python3"
  },
  "language_info": {
   "codemirror_mode": {
    "name": "ipython",
    "version": 3
   },
   "file_extension": ".py",
   "mimetype": "text/x-python",
   "name": "python",
   "nbconvert_exporter": "python",
   "pygments_lexer": "ipython3",
   "version": "3.10.18"
  }
 },
 "nbformat": 4,
 "nbformat_minor": 5
}
