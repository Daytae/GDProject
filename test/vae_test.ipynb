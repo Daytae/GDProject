{
 "cells": [
  {
   "cell_type": "markdown",
   "id": "3d4bd36f",
   "metadata": {},
   "source": [
    "Testing if the VAE Works:"
   ]
  },
  {
   "cell_type": "code",
   "execution_count": 1,
   "id": "dc448d21",
   "metadata": {},
   "outputs": [
    {
     "name": "stdout",
     "output_type": "stream",
     "text": [
      "New Current Directory is /home/alden/Research/GDProject\n"
     ]
    }
   ],
   "source": [
    "# Changes working directory to root to allow imports to work\n",
    "\n",
    "import os\n",
    "\n",
    "def change_directory_to_root(root_name: str = \"GDProject\"):\n",
    "    \"\"\"Changes the directory to the root of the project\"\"\"\n",
    "    current_folder = os.getcwd().split('/')[-1]\n",
    "    if current_folder != root_name:\n",
    "        os.chdir('..')\n",
    "\n",
    "    print(f\"New Current Directory is {os.getcwd()}\")\n",
    "\n",
    "change_directory_to_root()"
   ]
  },
  {
   "cell_type": "code",
   "execution_count": null,
   "id": "b075977a",
   "metadata": {},
   "outputs": [
    {
     "name": "stdout",
     "output_type": "stream",
     "text": [
      "Device: cuda\n"
     ]
    }
   ],
   "source": [
    "import util\n",
    "import gdiffusion as gd\n",
    "\n",
    "device = util.get_device(print_device=True)"
   ]
  },
  {
   "cell_type": "code",
   "execution_count": null,
   "id": "68061ee7",
   "metadata": {},
   "outputs": [],
   "source": [
    "# VAE Test Function\n",
    "\n",
    "def vae_test(vae: gd.MoleculeVAE | gd.PeptideVAE, string_name: str):\n",
    "    # Sample random string from VAE to test if its working\n",
    "    random_string = vae.sample_random(batch_size=4)\n",
    "\n",
    "    print(f\"--- Random {string_name} ---\")\n",
    "    for string in random_string:\n",
    "        print(string)\n",
    "    print(\"\")\n",
    "\n",
    "    print(\"Checking if VAE is stable. Pairs should match\")\n",
    "    for string in random_string:\n",
    "        string_augmented = vae.decode(vae.encode(string))[0]\n",
    "        print(f\"Original    {string_name}: {string}\")\n",
    "        print(f\"Transformed {string_name}: {string_augmented}\", end='\\n\\n')"
   ]
  },
  {
   "cell_type": "code",
   "execution_count": 9,
   "id": "b2ba57d4",
   "metadata": {},
   "outputs": [
    {
     "name": "stdout",
     "output_type": "stream",
     "text": [
      "\n",
      " Loading Molecule VAE:\n",
      "------------------------------------------------\n",
      "Loaded VAE Vocab from saved_models/selfies_vae/vocab.json\n",
      "Getting State Dict...\n",
      "Loading model from saved_models/selfies_vae/selfies-vae.ckpt\n",
      "Enc params: 1,994,592\n",
      "Dec params: 277,346\n",
      "------------------------------------------------\n",
      "\n",
      "--- Random SELFIES ---\n",
      "[O][=C][N][C][C][Branch2][Ring1][Branch1][N][C][=C][C][=C][Branch1][Ring1][C][O][C][=Branch1][C][=O][O][N][C][Branch1][Ring1][C][=O][=N][C][Ring2][Ring1][Branch2][=O][N][C][=Branch1][=Branch2][=C][Ring2][Ring1][Branch2][C][=O][C][C][C][Ring2][Ring1][Ring1][=O]\n",
      "[C][C][N][C][C][C][N][Branch1][Ring1][C][O][C][C][C][N][C][=C][O][C][Branch1][=Branch2][C][Branch1][C][C][Branch1][C][C][C][N][C][=Branch1][C][=O][C][=C][C][=C][C][=C][Ring1][=Branch1][C][C][C][C][C][Ring1][#Branch1]\n",
      "[C][C][=C][C][=C][Branch1][#Branch2][C][=C][C][=C][C][=C][Ring1][=Branch1][Cl][C][=C][C][=C][Branch1][#Branch2][C][=C][C][Branch1][C][F][=C][Ring1][=Branch2][C][=N][C][Ring2][Ring1][Ring2]\n",
      "[C][#C][C][C][=C][Branch1][=Branch1][C][=Branch1][C][=O][O][C][=C][N][C][=Branch1][C][=O][C][=N][O][C][=C][C][=C][C][=C][Ring1][=Branch1][Ring1][P][O][C][C][C][C][Ring1][=Branch1]\n",
      "\n",
      "Checking if VAE is stable. Pairs should match\n",
      "Original    SELFIES: [O][=C][N][C][C][Branch2][Ring1][Branch1][N][C][=C][C][=C][Branch1][Ring1][C][O][C][=Branch1][C][=O][O][N][C][Branch1][Ring1][C][=O][=N][C][Ring2][Ring1][Branch2][=O][N][C][=Branch1][=Branch2][=C][Ring2][Ring1][Branch2][C][=O][C][C][C][Ring2][Ring1][Ring1][=O]\n",
      "Transformed SELFIES: [O][=C][N][C][C][Branch2][Ring1][Branch1][N][C][=C][C][=C][Branch1][Ring1][C][O][C][=Branch1][C][=O][O][N][C][Branch1][Ring1][C][=O][=N][C][Ring2][Ring1][Branch2][=O][N][C][=Branch1][=Branch2][=C][Ring2][Ring1][Branch2][C][=O][C][C][C][Ring2][Ring1][Ring1][=O]\n",
      "\n",
      "Original    SELFIES: [C][C][N][C][C][C][N][Branch1][Ring1][C][O][C][C][C][N][C][=C][O][C][Branch1][=Branch2][C][Branch1][C][C][Branch1][C][C][C][N][C][=Branch1][C][=O][C][=C][C][=C][C][=C][Ring1][=Branch1][C][C][C][C][C][Ring1][#Branch1]\n",
      "Transformed SELFIES: [C][C][N][C][C][C][N][Branch1][Ring1][C][O][C][C][C][N][C][=C][O][C][Branch1][=Branch2][C][Branch1][C][C][Branch1][C][C][C][N][C][=Branch1][C][=O][C][=C][C][=C][C][=C][Ring1][=Branch1][C][C][C][C][C][Ring1][#Branch1]\n",
      "\n",
      "Original    SELFIES: [C][C][=C][C][=C][Branch1][#Branch2][C][=C][C][=C][C][=C][Ring1][=Branch1][Cl][C][=C][C][=C][Branch1][#Branch2][C][=C][C][Branch1][C][F][=C][Ring1][=Branch2][C][=N][C][Ring2][Ring1][Ring2]\n",
      "Transformed SELFIES: [C][C][=C][C][=C][Branch1][#Branch2][C][=C][C][=C][C][=C][Ring1][=Branch1][Cl][C][=C][C][=C][Branch1][#Branch2][C][=C][C][Branch1][C][F][=C][Ring1][=Branch2][C][=N][C][Ring2][Ring1][Ring2]\n",
      "\n",
      "Original    SELFIES: [C][#C][C][C][=C][Branch1][=Branch1][C][=Branch1][C][=O][O][C][=C][N][C][=Branch1][C][=O][C][=N][O][C][=C][C][=C][C][=C][Ring1][=Branch1][Ring1][P][O][C][C][C][C][Ring1][=Branch1]\n",
      "Transformed SELFIES: [C][#C][C][C][=C][Branch1][=Branch1][C][=Branch1][C][=O][O][C][=C][N][C][=Branch1][C][=O][C][=N][O][C][=C][C][=C][C][=C][Ring1][=Branch1][Ring1][P][O][C][C][C][C][Ring1][=Branch1]\n",
      "\n"
     ]
    }
   ],
   "source": [
    "molecule_vae = gd.MoleculeVAE() # load from default path\n",
    "vae_test(molecule_vae, string_name=\"SELFIES\")"
   ]
  },
  {
   "cell_type": "code",
   "execution_count": 10,
   "id": "73026594",
   "metadata": {},
   "outputs": [
    {
     "name": "stdout",
     "output_type": "stream",
     "text": [
      "\n",
      " Loading Peptide VAE:\n",
      "------------------------------------------------\n",
      "Loaded VAE Vocab from saved_models/peptide_vae/vocab.json\n",
      "Getting State Dict...\n",
      "Loading model from saved_models/peptide_vae/peptide-vae.ckpt\n",
      "Enc params: 2,675,904\n",
      "Dec params: 360,349\n",
      "------------------------------------------------\n",
      "\n",
      "--- Random Peptides ---\n",
      "PQREVHAHETELPILTEFILLKEFILLKMRLPTKGDRLPKWQRPTP\n",
      "NAYLVGAYALRK\n",
      "DRKKPDRKPALEALEKEAVERPPDLPFDL\n",
      "VQYLDGSKMITIWLAAGGMLKLGGMLAGGHSDRPRQPETVGL\n",
      "\n",
      "Checking if VAE is stable. Pairs should match\n"
     ]
    },
    {
     "name": "stderr",
     "output_type": "stream",
     "text": [
      "/home/alden/Research/GDProject/gdiffusion/vae/vae.py:30: FutureWarning: You are using `torch.load` with `weights_only=False` (the current default value), which uses the default pickle module implicitly. It is possible to construct malicious pickle data which will execute arbitrary code during unpickling (See https://github.com/pytorch/pytorch/blob/main/SECURITY.md#untrusted-models for more details). In a future release, the default value for `weights_only` will be flipped to `True`. This limits the functions that could be executed during unpickling. Arbitrary objects will no longer be allowed to be loaded via this mode unless they are explicitly allowlisted by the user via `torch.serialization.add_safe_globals`. We recommend you start setting `weights_only=True` for any use case where you don't have full control of the loaded file. Please open an issue on GitHub for any issues related to this experimental feature.\n",
      "  state_dict = torch.load(vae_statedict_path, map_location=self.device)[\"state_dict\"]\n"
     ]
    },
    {
     "name": "stdout",
     "output_type": "stream",
     "text": [
      "Original    Peptides: PQREVHAHETELPILTEFILLKEFILLKMRLPTKGDRLPKWQRPTP\n",
      "Transformed Peptides: PQREVHAHETELPILTEFILLKEFILLKMRLPTKGDRLPKWQRPTP\n",
      "\n",
      "Original    Peptides: NAYLVGAYALRK\n",
      "Transformed Peptides: NAYLVGAYALRK\n",
      "\n",
      "Original    Peptides: DRKKPDRKPALEALEKEAVERPPDLPFDL\n",
      "Transformed Peptides: DRKKPDRKPALEALEKEAVERPPDLPFDL\n",
      "\n",
      "Original    Peptides: VQYLDGSKMITIWLAAGGMLKLGGMLAGGHSDRPRQPETVGL\n",
      "Transformed Peptides: VQYLDGSKMITIWLAAGGMLKLGGMLAGGHSDRPRQPETVGL\n",
      "\n"
     ]
    }
   ],
   "source": [
    "peptide_vae = gd.PeptideVAE() # load from default path\n",
    "vae_test(peptide_vae, string_name=\"Peptides\")"
   ]
  }
 ],
 "metadata": {
  "kernelspec": {
   "display_name": "pytorch-cuda",
   "language": "python",
   "name": "python3"
  },
  "language_info": {
   "codemirror_mode": {
    "name": "ipython",
    "version": 3
   },
   "file_extension": ".py",
   "mimetype": "text/x-python",
   "name": "python",
   "nbconvert_exporter": "python",
   "pygments_lexer": "ipython3",
   "version": "3.10.18"
  }
 },
 "nbformat": 4,
 "nbformat_minor": 5
}
